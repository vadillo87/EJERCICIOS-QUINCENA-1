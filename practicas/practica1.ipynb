{
  "cells": [
    {
      "cell_type": "markdown",
      "metadata": {
        "id": "view-in-github",
        "colab_type": "text"
      },
      "source": [
        "<a href=\"https://colab.research.google.com/github/vadillo87/EJERCICIOS-QUINCENA-1/blob/main/practicas/practica1.ipynb\" target=\"_parent\"><img src=\"https://colab.research.google.com/assets/colab-badge.svg\" alt=\"Open In Colab\"/></a>"
      ]
    },
    {
      "cell_type": "markdown",
      "id": "8d9dc823",
      "metadata": {
        "id": "8d9dc823"
      },
      "source": [
        "# Práctica 1\n",
        "* Puede resolver aquí los ejercicios abriendo una celda después de cada uno de los enunciados.  \n",
        "* Por favor, documente la solución de los ejercicios añadiendo suficientes **comentarios** del programador que expliquen el código."
      ]
    },
    {
      "cell_type": "markdown",
      "id": "be4f1980",
      "metadata": {
        "id": "be4f1980"
      },
      "source": [
        "## Ejercicio 1.1. Elevar al cuadrado\n",
        "* Imprimir en pantalla el cuadrado de todos los números del 1 al 100, ambos incluidos.\n",
        "* Mostrarlos en forma de columnas. Algo parecido a:\n",
        " - 1 → 1\n",
        " - 2 → 4\n",
        " - 3 → 9\n",
        " - 4 → 16\n",
        " - 5 → 25\n",
        " - ... ... ...\n",
        " - 100 → 10,000"
      ]
    },
    {
      "cell_type": "code",
      "source": [
        "for i in range(1,101):\n",
        "    print(i,i**2) "
      ],
      "metadata": {
        "colab": {
          "base_uri": "https://localhost:8080/"
        },
        "id": "QLiGrzViNTHK",
        "outputId": "289bf93e-38e7-4b47-a21f-0cc58076bd89"
      },
      "id": "QLiGrzViNTHK",
      "execution_count": 9,
      "outputs": [
        {
          "output_type": "stream",
          "name": "stdout",
          "text": [
            "1 1\n",
            "2 4\n",
            "3 9\n",
            "4 16\n",
            "5 25\n",
            "6 36\n",
            "7 49\n",
            "8 64\n",
            "9 81\n",
            "10 100\n",
            "11 121\n",
            "12 144\n",
            "13 169\n",
            "14 196\n",
            "15 225\n",
            "16 256\n",
            "17 289\n",
            "18 324\n",
            "19 361\n",
            "20 400\n",
            "21 441\n",
            "22 484\n",
            "23 529\n",
            "24 576\n",
            "25 625\n",
            "26 676\n",
            "27 729\n",
            "28 784\n",
            "29 841\n",
            "30 900\n",
            "31 961\n",
            "32 1024\n",
            "33 1089\n",
            "34 1156\n",
            "35 1225\n",
            "36 1296\n",
            "37 1369\n",
            "38 1444\n",
            "39 1521\n",
            "40 1600\n",
            "41 1681\n",
            "42 1764\n",
            "43 1849\n",
            "44 1936\n",
            "45 2025\n",
            "46 2116\n",
            "47 2209\n",
            "48 2304\n",
            "49 2401\n",
            "50 2500\n",
            "51 2601\n",
            "52 2704\n",
            "53 2809\n",
            "54 2916\n",
            "55 3025\n",
            "56 3136\n",
            "57 3249\n",
            "58 3364\n",
            "59 3481\n",
            "60 3600\n",
            "61 3721\n",
            "62 3844\n",
            "63 3969\n",
            "64 4096\n",
            "65 4225\n",
            "66 4356\n",
            "67 4489\n",
            "68 4624\n",
            "69 4761\n",
            "70 4900\n",
            "71 5041\n",
            "72 5184\n",
            "73 5329\n",
            "74 5476\n",
            "75 5625\n",
            "76 5776\n",
            "77 5929\n",
            "78 6084\n",
            "79 6241\n",
            "80 6400\n",
            "81 6561\n",
            "82 6724\n",
            "83 6889\n",
            "84 7056\n",
            "85 7225\n",
            "86 7396\n",
            "87 7569\n",
            "88 7744\n",
            "89 7921\n",
            "90 8100\n",
            "91 8281\n",
            "92 8464\n",
            "93 8649\n",
            "94 8836\n",
            "95 9025\n",
            "96 9216\n",
            "97 9409\n",
            "98 9604\n",
            "99 9801\n",
            "100 10000\n"
          ]
        }
      ]
    },
    {
      "cell_type": "markdown",
      "id": "54892e96",
      "metadata": {
        "id": "54892e96"
      },
      "source": [
        "## Ejercicio 1.2. Listar números pares\n",
        "* Pedir al usuario dos números enteros, que pueden ser positivos o negativos.\n",
        "* Comprobar que el primer número introducido es menor que el segundo\n",
        "* Mostrar en pantalla todos los números pares comprendidos entre ellos\n",
        "* El cero se considera par"
      ]
    },
    {
      "cell_type": "code",
      "source": [
        "#INTRODUCIR DOS NUMEROS ENTEROS\n",
        "\n",
        "a= float(input( \"Indique el primer número: \" )) \n",
        "b= float(input( \"Indique el segundo número: \" )) \n",
        "\n",
        "#COMPROBRA QUE EL PRIMER NUMERO ES MENOR QUE EL SEGUNDO\n",
        "\n",
        "if a>b: \n",
        "  print(f\"El mayor es { a } y el menor es { b } .\" ) \n",
        "elif  b  >  a : \n",
        "  print(f\"El mayor es { b } y el menor es { a } .\") \n",
        "else : \n",
        "  print(\"Son iguales.\" )\n",
        "\n",
        "#MOSTRAR TODOS LOS NUMEROS PARES \n",
        "\n",
        "a=int(a)\n",
        "b=int(b)\n",
        "if a%2 == 0:\n",
        "  print(list(range(a,b+1,2)))\n",
        "else:\n",
        "  print(list(range(a+1,b+1,2)))\n"
      ],
      "metadata": {
        "colab": {
          "base_uri": "https://localhost:8080/"
        },
        "id": "ZWwpbg-iSvW0",
        "outputId": "8cd5e6d3-e0d4-4e6c-c256-c00d2e1eacd6"
      },
      "id": "ZWwpbg-iSvW0",
      "execution_count": 58,
      "outputs": [
        {
          "output_type": "stream",
          "name": "stdout",
          "text": [
            "Indique el primer número: -10\n",
            "Indique el segundo número: 10\n",
            "El mayor es 10.0 y el menor es -10.0 .\n",
            "[-10, -8, -6, -4, -2, 0, 2, 4, 6, 8, 10]\n"
          ]
        }
      ]
    },
    {
      "cell_type": "markdown",
      "source": [
        "## Ejercicio 1.3. Comparar varias parejas de números\n",
        "* Pedir al usuario dos números y decir cuál es:\n",
        " - el mayor\n",
        " - el menor\n",
        " - o si son iguales.\n",
        "* Seguir pidiendo números hasta que se introduzca algún valor:\n",
        " - negativo o \n",
        " - que no sea numérico\n",
        "* Los números solicitados podrán ser números con decimales."
      ],
      "metadata": {
        "id": "XbpVLZVjqvtK"
      },
      "id": "XbpVLZVjqvtK"
    },
    {
      "cell_type": "code",
      "source": [
        "while True:\n",
        "  try: \n",
        "    a = float(input(\"Indique el primer número: \"))\n",
        "    b = float(input(\"Indique el segundo número: \"))\n",
        "    if a==0:\n",
        "      print(f\"{a} A es 0\")\n",
        "      break\n",
        "    if b==0:\n",
        "      print(f\"{B} B es 0\")\n",
        "      break\n",
        "    if a > b:\n",
        "      print(f\"El mayor es {a} y el menor es {b}.\")\n",
        "    elif b > a:\n",
        "      print(f\"El mayor es {b} y el menor es {a}.\")\n",
        "    else:\n",
        "      print(\"Son iguales.\")\n",
        "  except:\n",
        "    print(\"Se ha introducido un carácter no válido. \\nFin del programa.\")\n",
        "    break\n",
        " \n",
        " \n",
        "  \n",
        "\n",
        "\n"
      ],
      "metadata": {
        "colab": {
          "base_uri": "https://localhost:8080/"
        },
        "id": "OcpenhGhe8Wv",
        "outputId": "62e51f83-960b-46a4-cd19-617a92441afd"
      },
      "id": "OcpenhGhe8Wv",
      "execution_count": 94,
      "outputs": [
        {
          "output_type": "stream",
          "name": "stdout",
          "text": [
            "Indique el primer número: 10\n",
            "Indique el segundo número: 5\n",
            "El mayor es 10.0 y el menor es 5.0.\n",
            "Indique el primer número: 0\n",
            "Indique el segundo número: 10\n",
            "0.0 A es 0\n"
          ]
        }
      ]
    },
    {
      "cell_type": "markdown",
      "id": "8c57fbec",
      "metadata": {
        "id": "8c57fbec"
      },
      "source": [
        "## Ejercicio 1.4. Media de una serie de números\n",
        "* Solicitar al usuario que introduzca reiteradamente números no negativos. Formar una lista con esos números.\n",
        "* Se interrumpe la petición de números cuando el usuario introduzca un número negativo. El número negativo no se incorporará a la lista de números captados.\n",
        "* Mostrar en pantalla la lista de números no negativos introducidos.\n",
        "* Mostrar en pantalla la suma y la media de los números de la lista.\n",
        "* Indicar cuántos valores de la lista son superiores a la media.\n",
        "* *Nota:* \n",
        "Los números \"no negativos\" son números positivos o cero, que pueden ser enteros o con decimales."
      ]
    },
    {
      "cell_type": "code",
      "source": [
        "while True:\n",
        "  n = float(input(\"Indique el número que desea escribir: \"))\n",
        "  if n < 0:\n",
        "    print(\"Fin del programa.\")\n",
        "    break\n",
        "  else:\n",
        "    print(n)\n",
        " \n",
        "\n",
        "\n"
      ],
      "metadata": {
        "colab": {
          "base_uri": "https://localhost:8080/",
          "height": 628
        },
        "id": "JhrudEhum-ZW",
        "outputId": "8456437c-e0b1-4551-e350-d2a788b56c2e"
      },
      "id": "JhrudEhum-ZW",
      "execution_count": 116,
      "outputs": [
        {
          "output_type": "stream",
          "name": "stdout",
          "text": [
            "Indique el número que desea escribir: 2\n",
            "2.0\n",
            "Indique el número que desea escribir: 3\n",
            "3.0\n"
          ]
        },
        {
          "output_type": "error",
          "ename": "KeyboardInterrupt",
          "evalue": "ignored",
          "traceback": [
            "\u001b[0;31m---------------------------------------------------------------------------\u001b[0m",
            "\u001b[0;31mKeyboardInterrupt\u001b[0m                         Traceback (most recent call last)",
            "\u001b[0;32m/usr/local/lib/python3.7/dist-packages/ipykernel/kernelbase.py\u001b[0m in \u001b[0;36m_input_request\u001b[0;34m(self, prompt, ident, parent, password)\u001b[0m\n\u001b[1;32m    728\u001b[0m             \u001b[0;32mtry\u001b[0m\u001b[0;34m:\u001b[0m\u001b[0;34m\u001b[0m\u001b[0;34m\u001b[0m\u001b[0m\n\u001b[0;32m--> 729\u001b[0;31m                 \u001b[0mident\u001b[0m\u001b[0;34m,\u001b[0m \u001b[0mreply\u001b[0m \u001b[0;34m=\u001b[0m \u001b[0mself\u001b[0m\u001b[0;34m.\u001b[0m\u001b[0msession\u001b[0m\u001b[0;34m.\u001b[0m\u001b[0mrecv\u001b[0m\u001b[0;34m(\u001b[0m\u001b[0mself\u001b[0m\u001b[0;34m.\u001b[0m\u001b[0mstdin_socket\u001b[0m\u001b[0;34m,\u001b[0m \u001b[0;36m0\u001b[0m\u001b[0;34m)\u001b[0m\u001b[0;34m\u001b[0m\u001b[0;34m\u001b[0m\u001b[0m\n\u001b[0m\u001b[1;32m    730\u001b[0m             \u001b[0;32mexcept\u001b[0m \u001b[0mException\u001b[0m\u001b[0;34m:\u001b[0m\u001b[0;34m\u001b[0m\u001b[0;34m\u001b[0m\u001b[0m\n",
            "\u001b[0;32m/usr/local/lib/python3.7/dist-packages/jupyter_client/session.py\u001b[0m in \u001b[0;36mrecv\u001b[0;34m(self, socket, mode, content, copy)\u001b[0m\n\u001b[1;32m    802\u001b[0m         \u001b[0;32mtry\u001b[0m\u001b[0;34m:\u001b[0m\u001b[0;34m\u001b[0m\u001b[0;34m\u001b[0m\u001b[0m\n\u001b[0;32m--> 803\u001b[0;31m             \u001b[0mmsg_list\u001b[0m \u001b[0;34m=\u001b[0m \u001b[0msocket\u001b[0m\u001b[0;34m.\u001b[0m\u001b[0mrecv_multipart\u001b[0m\u001b[0;34m(\u001b[0m\u001b[0mmode\u001b[0m\u001b[0;34m,\u001b[0m \u001b[0mcopy\u001b[0m\u001b[0;34m=\u001b[0m\u001b[0mcopy\u001b[0m\u001b[0;34m)\u001b[0m\u001b[0;34m\u001b[0m\u001b[0;34m\u001b[0m\u001b[0m\n\u001b[0m\u001b[1;32m    804\u001b[0m         \u001b[0;32mexcept\u001b[0m \u001b[0mzmq\u001b[0m\u001b[0;34m.\u001b[0m\u001b[0mZMQError\u001b[0m \u001b[0;32mas\u001b[0m \u001b[0me\u001b[0m\u001b[0;34m:\u001b[0m\u001b[0;34m\u001b[0m\u001b[0;34m\u001b[0m\u001b[0m\n",
            "\u001b[0;32m/usr/local/lib/python3.7/dist-packages/zmq/sugar/socket.py\u001b[0m in \u001b[0;36mrecv_multipart\u001b[0;34m(self, flags, copy, track)\u001b[0m\n\u001b[1;32m    624\u001b[0m         \"\"\"\n\u001b[0;32m--> 625\u001b[0;31m         \u001b[0mparts\u001b[0m \u001b[0;34m=\u001b[0m \u001b[0;34m[\u001b[0m\u001b[0mself\u001b[0m\u001b[0;34m.\u001b[0m\u001b[0mrecv\u001b[0m\u001b[0;34m(\u001b[0m\u001b[0mflags\u001b[0m\u001b[0;34m,\u001b[0m \u001b[0mcopy\u001b[0m\u001b[0;34m=\u001b[0m\u001b[0mcopy\u001b[0m\u001b[0;34m,\u001b[0m \u001b[0mtrack\u001b[0m\u001b[0;34m=\u001b[0m\u001b[0mtrack\u001b[0m\u001b[0;34m)\u001b[0m\u001b[0;34m]\u001b[0m\u001b[0;34m\u001b[0m\u001b[0;34m\u001b[0m\u001b[0m\n\u001b[0m\u001b[1;32m    626\u001b[0m         \u001b[0;31m# have first part already, only loop while more to receive\u001b[0m\u001b[0;34m\u001b[0m\u001b[0;34m\u001b[0m\u001b[0;34m\u001b[0m\u001b[0m\n",
            "\u001b[0;32mzmq/backend/cython/socket.pyx\u001b[0m in \u001b[0;36mzmq.backend.cython.socket.Socket.recv\u001b[0;34m()\u001b[0m\n",
            "\u001b[0;32mzmq/backend/cython/socket.pyx\u001b[0m in \u001b[0;36mzmq.backend.cython.socket.Socket.recv\u001b[0;34m()\u001b[0m\n",
            "\u001b[0;32mzmq/backend/cython/socket.pyx\u001b[0m in \u001b[0;36mzmq.backend.cython.socket._recv_copy\u001b[0;34m()\u001b[0m\n",
            "\u001b[0;32m/usr/local/lib/python3.7/dist-packages/zmq/backend/cython/checkrc.pxd\u001b[0m in \u001b[0;36mzmq.backend.cython.checkrc._check_rc\u001b[0;34m()\u001b[0m\n",
            "\u001b[0;31mKeyboardInterrupt\u001b[0m: ",
            "\nDuring handling of the above exception, another exception occurred:\n",
            "\u001b[0;31mKeyboardInterrupt\u001b[0m                         Traceback (most recent call last)",
            "\u001b[0;32m<ipython-input-116-345701455e13>\u001b[0m in \u001b[0;36m<module>\u001b[0;34m()\u001b[0m\n\u001b[1;32m      1\u001b[0m \u001b[0;32mwhile\u001b[0m \u001b[0;32mTrue\u001b[0m\u001b[0;34m:\u001b[0m\u001b[0;34m\u001b[0m\u001b[0;34m\u001b[0m\u001b[0m\n\u001b[0;32m----> 2\u001b[0;31m   \u001b[0mn\u001b[0m \u001b[0;34m=\u001b[0m \u001b[0mfloat\u001b[0m\u001b[0;34m(\u001b[0m\u001b[0minput\u001b[0m\u001b[0;34m(\u001b[0m\u001b[0;34m\"Indique el número que desea escribir: \"\u001b[0m\u001b[0;34m)\u001b[0m\u001b[0;34m)\u001b[0m\u001b[0;34m\u001b[0m\u001b[0;34m\u001b[0m\u001b[0m\n\u001b[0m\u001b[1;32m      3\u001b[0m   \u001b[0;32mif\u001b[0m \u001b[0mn\u001b[0m \u001b[0;34m<\u001b[0m \u001b[0;36m0\u001b[0m\u001b[0;34m:\u001b[0m\u001b[0;34m\u001b[0m\u001b[0;34m\u001b[0m\u001b[0m\n\u001b[1;32m      4\u001b[0m     \u001b[0mprint\u001b[0m\u001b[0;34m(\u001b[0m\u001b[0;34m\"Fin del programa.\"\u001b[0m\u001b[0;34m)\u001b[0m\u001b[0;34m\u001b[0m\u001b[0;34m\u001b[0m\u001b[0m\n\u001b[1;32m      5\u001b[0m     \u001b[0;32mbreak\u001b[0m\u001b[0;34m\u001b[0m\u001b[0;34m\u001b[0m\u001b[0m\n",
            "\u001b[0;32m/usr/local/lib/python3.7/dist-packages/ipykernel/kernelbase.py\u001b[0m in \u001b[0;36mraw_input\u001b[0;34m(self, prompt)\u001b[0m\n\u001b[1;32m    702\u001b[0m             \u001b[0mself\u001b[0m\u001b[0;34m.\u001b[0m\u001b[0m_parent_ident\u001b[0m\u001b[0;34m,\u001b[0m\u001b[0;34m\u001b[0m\u001b[0;34m\u001b[0m\u001b[0m\n\u001b[1;32m    703\u001b[0m             \u001b[0mself\u001b[0m\u001b[0;34m.\u001b[0m\u001b[0m_parent_header\u001b[0m\u001b[0;34m,\u001b[0m\u001b[0;34m\u001b[0m\u001b[0;34m\u001b[0m\u001b[0m\n\u001b[0;32m--> 704\u001b[0;31m             \u001b[0mpassword\u001b[0m\u001b[0;34m=\u001b[0m\u001b[0;32mFalse\u001b[0m\u001b[0;34m,\u001b[0m\u001b[0;34m\u001b[0m\u001b[0;34m\u001b[0m\u001b[0m\n\u001b[0m\u001b[1;32m    705\u001b[0m         )\n\u001b[1;32m    706\u001b[0m \u001b[0;34m\u001b[0m\u001b[0m\n",
            "\u001b[0;32m/usr/local/lib/python3.7/dist-packages/ipykernel/kernelbase.py\u001b[0m in \u001b[0;36m_input_request\u001b[0;34m(self, prompt, ident, parent, password)\u001b[0m\n\u001b[1;32m    732\u001b[0m             \u001b[0;32mexcept\u001b[0m \u001b[0mKeyboardInterrupt\u001b[0m\u001b[0;34m:\u001b[0m\u001b[0;34m\u001b[0m\u001b[0;34m\u001b[0m\u001b[0m\n\u001b[1;32m    733\u001b[0m                 \u001b[0;31m# re-raise KeyboardInterrupt, to truncate traceback\u001b[0m\u001b[0;34m\u001b[0m\u001b[0;34m\u001b[0m\u001b[0;34m\u001b[0m\u001b[0m\n\u001b[0;32m--> 734\u001b[0;31m                 \u001b[0;32mraise\u001b[0m \u001b[0mKeyboardInterrupt\u001b[0m\u001b[0;34m\u001b[0m\u001b[0;34m\u001b[0m\u001b[0m\n\u001b[0m\u001b[1;32m    735\u001b[0m             \u001b[0;32melse\u001b[0m\u001b[0;34m:\u001b[0m\u001b[0;34m\u001b[0m\u001b[0;34m\u001b[0m\u001b[0m\n\u001b[1;32m    736\u001b[0m                 \u001b[0;32mbreak\u001b[0m\u001b[0;34m\u001b[0m\u001b[0;34m\u001b[0m\u001b[0m\n",
            "\u001b[0;31mKeyboardInterrupt\u001b[0m: "
          ]
        }
      ]
    },
    {
      "cell_type": "markdown",
      "id": "f2bb8aa7",
      "metadata": {
        "id": "f2bb8aa7"
      },
      "source": [
        "## Ejercicio 1.5. Calculadora\n",
        "* Pedir al usuario dos números con posible decimales\n",
        "* Si alguno de los valores introducidos no es un número válido, por ejemplo una letra o un símbolo, seguir pidiendo valores hasta que el usuario introduzca números válidos.\n",
        "* Crear un **menú** donde el usuario pueda elegir que operación desea hacer con esos dos números:\n",
        " 1. suma\n",
        " 2. resta\n",
        " 3. multiplicación\n",
        " 4. división\n",
        " 5. división entera\n",
        " 6. resto o módulo\n",
        " 7. potencias\n",
        "* En el menú debe haber una opción para realizar las siete operaciones con esos dos números, realizadas todas ellas de una sola vez.\n",
        "* En el menú debe haber una opción para salir del programa.\n",
        "* Utilice **control de errores** para evitar el error de división entre cero. Utilice `try`, `except`."
      ]
    },
    {
      "cell_type": "code",
      "source": [
        "a = float(input(\"Indique el primer número: \"))\n",
        "b = float(input(\"Indique el segundo número: \"))\n",
        "\n",
        "\n",
        "menu = '''\n",
        "Calculadora\n",
        "\\t 1. Suma\n",
        "\\t 2. Resta\n",
        "\\t 3. Multiplica\n",
        "\\t 4. Division\n",
        "\\t 5. Division Entera\n",
        "\\t 6. Resto o Modulo\n",
        "\\t 7. Potencias\n",
        "\\t 8. Todas juntas\n",
        "\\t 0. Fin\n",
        "'''\n",
        "print(menu)\n",
        "n = input(\"Elija la opción deseada.\")\n",
        "if n == '1':\n",
        "  c=a+b\n",
        "  print(f\"Ha elegido Sumar. El valor es {c} \")\n",
        "elif n == '2':\n",
        "  c=a-b\n",
        "  print(f\"Ha elegido Restar. El valor es {c} \")\n",
        "elif n == '3':\n",
        "  c=a*b\n",
        "  print(f\"Ha elegido Multiplicar.El valor es {c} \")\n",
        "elif n == '4':\n",
        "  while True:\n",
        "    try:\n",
        "      print(f\"Ha elegido Dividir.El valor es {a/b} \")\n",
        "      break\n",
        "    except ZeroDivisionError:\n",
        "      print(\"El denominador no puede ser cero. Pruebe otra vez.\")\n",
        "elif n == '5':\n",
        "  c=a//b\n",
        "  print(f\"Ha elegido Division Entera.El valor es {c} \")\n",
        "elif n == '6':\n",
        "  c=a%b\n",
        "  print(f\"Ha elegido Resto.El valor es {c} \")\n",
        "elif n == '7':\n",
        "  c=a**b\n",
        "  print(f\"Ha elegido Potencia.El valor es {c} \")\n",
        "elif n == '8':\n",
        "  c=a+b\n",
        "  print(f\"Ha elegido Sumar. El valor es {c} \")\n",
        "  d=a-b\n",
        "  print(f\"Ha elegido Restar. El valor es {d} \")\n",
        "  e=a*b\n",
        "  print(f\"Ha elegido Multiplicar.El valor es {e} \")\n",
        "  f=a/b  \n",
        "#while True:\n",
        "    #try:\n",
        "  print(f\"Ha elegido Dividir.El valor es {f} \")\n",
        "      #break\n",
        "    #except ZeroDivisionError:\n",
        "      #print(\"El denominador no puede ser cero. Pruebe otra vez.\")\n",
        "  g=a//b\n",
        "  print(f\"Ha elegido Division Entera.El valor es {g} \")\n",
        "  h=a%b\n",
        "  print(f\"Ha elegido Resto.El valor es {h} \")\n",
        "  i=a**b\n",
        "  print(f\"Ha elegido Potencia.El valor es {i} \")\n",
        "\n",
        "    \n",
        "elif n == '0':\n",
        "    print(\"Fin del programa\")\n",
        "else:\n",
        "    print(\"Opción no válida.\")"
      ],
      "metadata": {
        "colab": {
          "base_uri": "https://localhost:8080/"
        },
        "id": "ejhSoexLyMqp",
        "outputId": "df0f5b7d-5337-47c6-cf23-1e7fa42c734b"
      },
      "id": "ejhSoexLyMqp",
      "execution_count": 159,
      "outputs": [
        {
          "output_type": "stream",
          "name": "stdout",
          "text": [
            "Indique el primer número: 5\n",
            "Indique el segundo número: 2\n",
            "\n",
            "Calculadora\n",
            "\t 1. Suma\n",
            "\t 2. Resta\n",
            "\t 3. Multiplica\n",
            "\t 4. Division\n",
            "\t 5. Division Entera\n",
            "\t 6. Resto o Modulo\n",
            "\t 7. Potencias\n",
            "\t 8. Todas juntas\n",
            "\t 0. Fin\n",
            "\n",
            "Elija la opción deseada.8\n",
            "Ha elegido Sumar. El valor es 7.0 \n",
            "Ha elegido Restar. El valor es 3.0 \n",
            "Ha elegido Multiplicar.El valor es 10.0 \n",
            "Ha elegido Dividir.El valor es 2.5 \n",
            "Ha elegido Division Entera.El valor es 2.0 \n",
            "Ha elegido Resto.El valor es 1.0 \n",
            "Ha elegido Resto.El valor es 25.0 \n"
          ]
        }
      ]
    },
    {
      "cell_type": "markdown",
      "id": "c0bc1641",
      "metadata": {
        "id": "c0bc1641"
      },
      "source": [
        "## Ejercicio 1.6. Divisores de una serie de números\n",
        "* Generar un número aleatorio entre 2 y 1.000, ambos incluidos.\n",
        "* Mostrar en pantalla todos sus divisores y hacer lo mismo con los 10 números siguientes al número elegido aleatoriamente.\n",
        "* Si los divisores del número únicamente fueran 1 y el propio número, indicar que se trata de un número primo\n",
        "* Por ejemplo si el número aleatorio obtenido fuera 100 se vería algo parecido a esto:\n",
        "   - 100 -> [1,2,4,5,10,20,25,50,100]\n",
        "   - 101 -> Primo\n",
        "   - 102 -> [1,2,3,6,17,34,51,102]\n",
        "   - 103 -> Primo\n",
        "   - 104 -> [1,2,4,8,13,26,52,104]\n",
        "   - 105 -> [1,3,5,7,15,21,35,105]\n",
        "   - 106 -> [1,2,53,106]\n",
        "   - 107 -> Primo\n",
        "   - 108 -> [1,2,3,4,6,9,12,18,27,36,54,108]\n",
        "   - 109 -> Primo\n",
        "   - 110 -> [1,2,5,10,11,22,55,110]"
      ]
    },
    {
      "cell_type": "code",
      "source": [
        "from random import randint \n",
        "n=randint(2,1001)   \n",
        "print(n)\n",
        "\n",
        "def frac(a,b):             # función que calcula la parte fraccionaria\n",
        "  return (a/b) - int(a/b) \n",
        "def main():\n",
        "                 # vamos a calcular los divisores de n\n",
        "  for i in range(1,n+1):\n",
        "    if frac(n,i)<1e-9: #ponemos <1e-9 y no ==0 para evitar posibles errores de redondeo al dividir\n",
        "            print(i, end=\",\")\n",
        "\n",
        "main()\n",
        "\n",
        "if n > 1:\n",
        "    for i in range(2, int(n/2)+1):\n",
        "         if (n % i) == 0:\n",
        "            print(\"No es un numero primo\")\n",
        "            break\n",
        "    else:\n",
        "        print(\"ES un numero primo\")"
      ],
      "metadata": {
        "colab": {
          "base_uri": "https://localhost:8080/"
        },
        "id": "GBAoSM0ks27I",
        "outputId": "9bf1c67e-bbf3-4628-fe80-813b0ab8194d"
      },
      "id": "GBAoSM0ks27I",
      "execution_count": 47,
      "outputs": [
        {
          "output_type": "stream",
          "name": "stdout",
          "text": [
            "101\n",
            "1,101,It is a prime number\n"
          ]
        }
      ]
    },
    {
      "cell_type": "markdown",
      "id": "c53d7a67",
      "metadata": {
        "id": "c53d7a67"
      },
      "source": [
        "## Ejercicio 1.7. Comparar medias de aleatorios con funciones\n",
        "* Generar 12 números aleatorios entre 0 y 100 y calcular su media.\n",
        "* Generar otros 12 números aleatorios entre 0 y 100 y calcular su media.\n",
        "* Mostrar en pantalla las dos listas\n",
        "* Finalmente muestre en pantalla las medias de ambas series y diga cuál de las dos ha resultado mayor.\n",
        "* Utilice una o varias **funciones** para lograrlo."
      ]
    },
    {
      "cell_type": "code",
      "source": [
        "from random import randint\n",
        "from statistics import mean\n",
        "\n",
        "def generaLista1():\n",
        "    lista1 = []\n",
        "    for i in range(12):\n",
        "        lista1.append(randint(0,100))\n",
        "    return lista1\n",
        "\n",
        "lista1 = generaLista1()\n",
        "print(lista1)\n",
        "a=mean(lista1)\n",
        "print(f\"La media es\", a)\n",
        "\n",
        "\n",
        "def generaLista2():\n",
        "    lista2 = []\n",
        "    for i in range(12):\n",
        "        lista2.append(randint(0,100))\n",
        "    return lista2\n",
        "\n",
        "lista2 = generaLista2()\n",
        "print(lista2)\n",
        "b=mean(lista2)\n",
        "print(f\"La media es\", b)\n",
        "\n",
        "\n",
        "if a>b:\n",
        "  print(f\"La media de la lista 1 es mayor que la media de la lista 2\")\n",
        "else:\n",
        "  print(f\"La media de la lista 2 es mayor que la media de la lista 1\")\n",
        "\n",
        "\n"
      ],
      "metadata": {
        "colab": {
          "base_uri": "https://localhost:8080/"
        },
        "id": "7v4tFZAny4oV",
        "outputId": "15d0d05d-52f8-4822-fb52-5501be08618b"
      },
      "id": "7v4tFZAny4oV",
      "execution_count": 64,
      "outputs": [
        {
          "output_type": "stream",
          "name": "stdout",
          "text": [
            "[91, 47, 19, 69, 42, 6, 27, 97, 27, 10, 30, 7]\n",
            "La media es 39.333333333333336\n",
            "[75, 18, 86, 62, 48, 33, 31, 48, 49, 17, 61, 65]\n",
            "La media es 49.416666666666664\n",
            "La media de la lista 2 es mayor que la media de la lista 1\n"
          ]
        }
      ]
    },
    {
      "cell_type": "markdown",
      "id": "a47f544e",
      "metadata": {
        "id": "a47f544e"
      },
      "source": [
        "## Ejercicio 1.8. Matriz con escalones\n",
        "* Dado el parámetro número de filas (n) crear una matriz:\n",
        " - El número de filas (n) puede variar aleatoriamente entre 1 y 20\n",
        " - El número de columnas siempre es el triple que el de filas\n",
        " - La matriz está compuesta por ceros y unos según la distribución que se muestra en la imagen, según sea el valor del parámetro n.\n",
        "* Se trata de imprimir la matriz en la terminal en función del valor de n que nos den.\n",
        "\n",
        "![matriz.png](https://drive.google.com/uc?id=1yff9bW_yu-U1aTdbR2mTmWkD31ZPrqnc)\n",
        "\n",
        "* Para n=5 se obtendría el siguiente resultado:\n",
        "\n",
        "![matriz.png](https://drive.google.com/uc?id=1Pz5wbwCls6DAwOh2SI0Nes-011nSLTjC)\n"
      ]
    },
    {
      "cell_type": "code",
      "source": [
        "def rectangulo(n):\n",
        "    matriz = []\n",
        "    for i in range(n):\n",
        "        matriz.append([])\n",
        "        for j in range(3*n):\n",
        "            if i>(j*3):\n",
        "              matriz[i].append(0)\n",
        "            else:\n",
        "              matriz[i].append(1)\n",
        "    return matriz\n",
        "\n",
        "n =3 # randint(1,3)\n",
        "matrix = rectangulo(n)\n",
        "\n",
        "for i in range(n):\n",
        "    print(*matrix[i])"
      ],
      "metadata": {
        "colab": {
          "base_uri": "https://localhost:8080/"
        },
        "id": "bduvs1bIKw6s",
        "outputId": "7e5644e7-a414-40d0-bc7e-67406b0d79e1"
      },
      "id": "bduvs1bIKw6s",
      "execution_count": 229,
      "outputs": [
        {
          "output_type": "stream",
          "name": "stdout",
          "text": [
            "1 1 1 1 1 1 1 1 1\n",
            "0 1 1 1 1 1 1 1 1\n",
            "0 1 1 1 1 1 1 1 1\n"
          ]
        }
      ]
    },
    {
      "cell_type": "code",
      "source": [
        ""
      ],
      "metadata": {
        "id": "0lruXr8YPGHP"
      },
      "id": "0lruXr8YPGHP",
      "execution_count": null,
      "outputs": []
    },
    {
      "cell_type": "markdown",
      "id": "e199291b",
      "metadata": {
        "id": "e199291b"
      },
      "source": [
        "## Ejercicio 1.9. Frecuencia de caracteres de un libro\n",
        "* Analizar la frecuencia de todos los caracteres que contiene un libro\n",
        "* El libro es: \n",
        " - Frankenstein; Or, The Modern Prometheus by Mary Wollstonecraft Shelley\n",
        "* Se puede obtener libremente del proyecto Gutemberg en esta dirección:\n",
        "  - [Frankenstein](https://www.gutenberg.org/ebooks/84) \n",
        "* Mostrar en pantalla cuantas veces aparece cada letra del alfabeto.\n",
        "* Utilice un ***diccionario*** en Python para guardar cada carácter y su frecuencia."
      ]
    },
    {
      "cell_type": "code",
      "source": [
        "!git clone https://github.com/financieras/pyCourse.git"
      ],
      "metadata": {
        "colab": {
          "base_uri": "https://localhost:8080/"
        },
        "id": "9em07l_GUKgj",
        "outputId": "84772197-dd7c-401b-b6c8-39839aa0fc38"
      },
      "id": "9em07l_GUKgj",
      "execution_count": 230,
      "outputs": [
        {
          "output_type": "stream",
          "name": "stdout",
          "text": [
            "Cloning into 'pyCourse'...\n",
            "remote: Enumerating objects: 2451, done.\u001b[K\n",
            "remote: Counting objects: 100% (755/755), done.\u001b[K\n",
            "remote: Compressing objects: 100% (291/291), done.\u001b[K\n",
            "remote: Total 2451 (delta 533), reused 643 (delta 461), pack-reused 1696\u001b[K\n",
            "Receiving objects: 100% (2451/2451), 3.13 MiB | 24.27 MiB/s, done.\n",
            "Resolving deltas: 100% (1741/1741), done.\n"
          ]
        }
      ]
    },
    {
      "cell_type": "code",
      "source": [
        "# nos vamos hasta el directorio ejemplos\n",
        "%cd pyCourse/ejemplos"
      ],
      "metadata": {
        "colab": {
          "base_uri": "https://localhost:8080/"
        },
        "id": "WiYOzEw8VhiK",
        "outputId": "414ba5f3-56ca-4933-f8e8-d28d10cce785"
      },
      "id": "WiYOzEw8VhiK",
      "execution_count": 231,
      "outputs": [
        {
          "output_type": "stream",
          "name": "stdout",
          "text": [
            "/content/pyCourse/ejemplos\n"
          ]
        }
      ]
    },
    {
      "cell_type": "code",
      "source": [
        "import pandas as pd\n",
        "\n",
        "\n",
        "palabra = 'father'\n",
        "f = open(\"frankenstein.txt\")  # abrimos el archivo y lo asignamos a la variable f (file)\n",
        "libro = f.read()              # leemos el fichero\n",
        "n = libro.count(palabra)      # contamos la palabra, es case sensitive\n",
        "f.close()                     # cerramos el fichero\n",
        "\n",
        "\n",
        "\n",
        "list=['a', 'b', 'c', 'd', 'e', 'f', 'g', 'h', 'i', 'j','k','l','m','n','o','p','q','r','s','t','u','v','w','x','y','z']\n",
        "\n",
        "for i in list:\n",
        "  ocurrencias = libro.count(i)\n",
        "  print(i,ocurrencias)\n"
      ],
      "metadata": {
        "colab": {
          "base_uri": "https://localhost:8080/"
        },
        "id": "dqY42wyiVmoz",
        "outputId": "13a1f96a-a2e7-449b-9fd3-d89e98b291d4"
      },
      "id": "dqY42wyiVmoz",
      "execution_count": 253,
      "outputs": [
        {
          "output_type": "stream",
          "name": "stdout",
          "text": [
            "a 25389\n",
            "b 4529\n",
            "c 8491\n",
            "d 16235\n",
            "e 44023\n",
            "f 8189\n",
            "g 5474\n",
            "h 18936\n",
            "i 20391\n",
            "j 346\n",
            "k 1593\n",
            "l 12168\n",
            "m 9959\n",
            "n 23229\n",
            "o 23774\n",
            "p 5626\n",
            "q 313\n",
            "r 19637\n",
            "s 20135\n",
            "t 28319\n",
            "u 9881\n",
            "v 3681\n",
            "w 7089\n",
            "x 649\n",
            "y 7445\n",
            "z 211\n"
          ]
        }
      ]
    },
    {
      "cell_type": "markdown",
      "id": "a6691e00",
      "metadata": {
        "id": "a6691e00"
      },
      "source": [
        "## Ejercicio 1.10. Detectar el número diferente\n",
        "* Utilice una función para generar un array de números enteros con una longitud aleatoria entre 6 y 15\n",
        "* Los números del array han de ser aleatorios enteros entre entre -99 y +99\n",
        "* Los números del array serán todos pares, menos uno de ellos que será impar, o bien\n",
        "* todos serán impares, menos uno de ellos que será par\n",
        "* Mostrar en pantalla el array\n",
        "* El objetivo es detectar el número que es diferente dentro del array\n",
        "* Crear una **función** a la que pasamos como parámetro el array generado\n",
        "* La función retorna ese número diferente que se ha de imprimir por pantalla\n",
        "* Utilice **funciones**\n",
        "\n",
        "##### Ejemplo 1\n",
        "  - [2, -4, 0, 92, 6, 11, 26, -58, -36]\n",
        "  - Debería retornar 11, ya que es el único número impar del array\n",
        "\n",
        "##### Ejemplo 2\n",
        "  - [-17, 3, 19, -79, 11, 16, -21, -33]\n",
        "  - Debería retornar 16, ya que es el único número par del array"
      ]
    },
    {
      "cell_type": "markdown",
      "id": "77921deb",
      "metadata": {
        "id": "77921deb"
      },
      "source": [
        "## Ejercicio 1.11. Edad\n",
        "* Establezca un procedimiento en el que el código toma la fecha del sistema e indicando su fecha de nacimiento le diga cuántos años tiene.\n",
        "* El programa también le dice cuantos días faltan para que llegue su próximo cumpleaños.\n",
        "* ¿Su código tiene en cuenta los años bisiestos?"
      ]
    },
    {
      "cell_type": "markdown",
      "id": "3968e33a",
      "metadata": {
        "id": "3968e33a"
      },
      "source": [
        "## Ejercicio 1.12. Comprobar si un número es primo\n",
        "* Genere e imprima una lista con los mil primeros números primos\n",
        "* La lista podría ser algo parecido a lo siguiente, donde el primer número primo es 2, el segundo es 3, el tercero es 5, hasta llegar al número mil que es 7.919\n",
        " - 1 → 2\n",
        " - 2 → 3\n",
        " - 3 → 5\n",
        " - 4 → 7\n",
        " - 5 → 11\n",
        " - 6 → 13\n",
        " - 7 → 17\n",
        " - ... ... ...\n",
        " - 1000 → 7919  \n",
        "* Luego genere un número aleatorio entero entre 2 y 7.919.\n",
        "* Muestre en pantalla el número aleatorio generado e indique si pertenece a la lista de los mil primeros números primos.\n",
        "* Si el número no pertenece a la lista imprima un mensaje indicando que el número no es primo, y en caso de serlo indique que lugar de la lista ocupa.\n",
        " - Por ejemplo, el número 17 habría que indicar que ocupa el lugar 7 en la lista de los números primos.\n",
        "* Utilice una o varias **funciones**\n",
        "* Finalmente indique cuanto tiempo ha tardado el programa en ejecutarse"
      ]
    },
    {
      "cell_type": "markdown",
      "id": "d349d756",
      "metadata": {
        "id": "d349d756"
      },
      "source": [
        "## Ejercicio 1.13. Números aleatorios con y sin repetición\n",
        "* Generar dos listas de 10 elementos cada una, con números enteros, aleatorios, entre 1 y 20\n",
        "* En una de las listas los números se pueden llegar a repetir y en la otra no se admiten repeticiones.\n",
        "* Generar una tercera lista con todos los elementos que se repitan en ellas\n",
        "* En esta tercera lista no debe repetirse ningún elemento\n",
        "* Imprimir las tres listas ordenadas"
      ]
    },
    {
      "cell_type": "markdown",
      "id": "f114cf56",
      "metadata": {
        "id": "f114cf56"
      },
      "source": [
        "## Ejercicio 1.14. Ordenar una lista\n",
        "* Generar una lista de números aleatorios con posible repetición e imprimirla.\n",
        "* Realizar la ordenación por **dos métodos**, usando **funciones**\n",
        "* Ordenar la lista sin usar ```sort``` ni ```sorted``` e imprimirla.\n",
        "* Explicar con comentarios del programador lo que hace cada método.\n",
        "* Si el método tiene algún nombre conocido indicarlo, por ejemplo, método de la burbuja."
      ]
    },
    {
      "cell_type": "markdown",
      "id": "be25b009",
      "metadata": {
        "id": "be25b009"
      },
      "source": [
        "## Ejercicio 1.15. Función separa\n",
        "* Genere e imprima una lista de 15 elementos, con números enteros, aleatorios con posible repetición, entre -20 y 20.\n",
        "* Cree una función que separe los elementos de la lista anterior en dos listas\n",
        " - por un lado, los números pares y\n",
        " - por otro, los impares\n",
        "* Las nuevas listas tendrán sus elementos ordenados y sin repetición.\n",
        "* Imprima las listas.\n",
        "* Imprima la desviación típica de cada lista, indicando cuál es la mayor, si la de los pares o la de los impares.\n",
        "* Utilice funciones."
      ]
    },
    {
      "cell_type": "markdown",
      "id": "c9e64049",
      "metadata": {
        "id": "c9e64049"
      },
      "source": [
        "## Ejercicio 1.16. Binario a decimal\n",
        "* Pedir al usuario que introduzca un número binario y convertirlo a decimal.\n",
        "* Mostrar en pantalla también el modo de llegar a ese resultado.\n",
        "* Por ejemplo, si el binario es 101011, entonces se ha de imprimir el proceso que es:\n",
        " - 1\\*2^5 + 0\\*2^4 + 1\\*2^3 + 0\\*2^2 + 1\\*2^1 + 1\\*2^0 = 43\n",
        "\n",
        "![Binario a decimal](https://github.com/financieras/pyCourse/blob/main/jupyter/img/binario_a_decimal.jpg?raw=1)"
      ]
    },
    {
      "cell_type": "markdown",
      "id": "8b2016cf",
      "metadata": {
        "id": "8b2016cf"
      },
      "source": [
        "## Ejercicio 1.17. Decimal a binario\n",
        "* Pedir al usuario que introduzca un número decimal y convertirlo a binario.\n",
        "* Mostrar en pantalla el decimal introducido y su equivalente en binario. \n",
        "* Mostrar en pantalla una **tabla** similar a la del siguiente ejemplo.\n",
        "* La tabla explica la forma de llegar al resultado en binario.\n",
        "\n",
        "![Decimal a binario](https://github.com/financieras/pyCourse/blob/main/jupyter/img/decimal_a_binario.jpg?raw=1)"
      ]
    },
    {
      "cell_type": "markdown",
      "id": "d51b4dab",
      "metadata": {
        "id": "d51b4dab"
      },
      "source": [
        "## Ejercicio 1.18. Suma de dos números para llegar al target\n",
        "* Generar un número entero aleatorio entre 2 y 20. A este número le llamaremos target. \n",
        "* Generar una lista de números aleatorios enteros entre -10 y 10.\n",
        "* La lista puede tener desde un mínimo de dos elementos a un máximo de seis.\n",
        "* La lista debe contener dos números que sumados nos den el target.\n",
        "* El programa generará un target y una lista y verificará que se cumple la condición de la suma.\n",
        "* En caso de que no se cumpla seguirá generando otro target y otra lista hasta conseguirlo.\n",
        "* La lista debe ser de **solución única**, esto es, solo puede haber un par de números que sumados den el target. \n",
        "* Como ejemplo se puede ver la siguiente imagen donde mostramos tres listas que cumplen la condición.\n",
        "* En su caso, debe generar y mostrar 100 listas que cumplan los requisitos pedidos.\n",
        "\n",
        "![Sumar dos numeros](https://github.com/financieras/pyCourse/blob/main/jupyter/img/sumar_dos_numeros.jpg?raw=1)"
      ]
    },
    {
      "cell_type": "markdown",
      "id": "71e906cb",
      "metadata": {
        "id": "71e906cb"
      },
      "source": [
        "## Ejercicio 1.19. Segundo mínimo en listas anidadas\n",
        "* Disponemos de la siguiente lista anidada:\n",
        " - [[\"Ana\",1],[\"Raúl\",1],[\"Jose\",9],[\"David\",7],[\"Eva\",8],[\"Felipe\",4],[\"Héctor\",9],[\"Isabel\",4],[\"Susana\",5]]\n",
        "* El mínimo de esta lista es 1 que recae en Ana y Raúl.\n",
        "* El segundo mínimo de esta lista es 4 que está asociado a Felipe e Isabel.\n",
        "* Estamos buscando los nombres que están asociados al segundo mínimo.\n",
        "* Para esta lista, el procedimiento debería proporcionar como salida: Felipe, Isabel.\n",
        "* Crear un procedimiento que genere listas anidadas similares a la del ejemplo, de longitud variable, que contenga entre 2 y 9 sublistas.\n",
        "* Se debe **garantizar que existe el segundo mínimo**. El segundo mínimo no existiría si todos los valores numéricos coincidieran.\n",
        "* El programa mostrará en pantalla la lista generada y el nombre o nombres asociados con el segundo mínimo.\n",
        "* Utilice una o varias **funciones** para lograrlo.\n",
        "* Otros ejemplos:\n",
        " - [[\"Iris\",5],[\"Gala\",2],[\"Zoe\",8]] El segundo mínimo lo tiene: Iris.\n",
        " - [[\"Abel\",3],[\"Blas\",2],[\"Hugo\",8],[\"Leo\",3]] El segundo mínimo lo tienen: Abel y Leo."
      ]
    },
    {
      "cell_type": "markdown",
      "id": "42fae779",
      "metadata": {
        "id": "42fae779"
      },
      "source": [
        "## Ejercicio 1.20. Lista de impares\n",
        "* Generar números enteros aleatorios entre 10 y 99 (ambos incluidos) y con posible repetición. Estos números se incorporarán a una lista de longitud 17.\n",
        "* Generar continuamente listas de este tipo hasta lograr una donde todos sus elementos sean impares y sin repetición.\n",
        "* Indique cuántas listas fueron generadas hasta llegar a la que cumple estos requisitos.\n",
        "* Imprimir la lista obtenida de forma ordenada, de mayor a menor.\n",
        "* Imprimir el tiempo que se ha tardado en lograr esa lista expresado en segundos con hasta **6 decimales**.\n",
        "\n",
        "#### *Nota*\n",
        "* La \"longitud 17\" es orientativa para que el número de segundos empleados no sea muy grande, ni una fracción muy pequeña de un segundo.\n",
        "* Si en su ordenador y con su código se alcanzan tiempos excesivamente grandes pruebe con listas de longitud algo menor, por ejemplo, con 16 o menos.\n",
        "\n",
        "![Impares](https://github.com/financieras/pyCourse/blob/main/jupyter/img/impares.jpg?raw=1)"
      ]
    }
  ],
  "metadata": {
    "kernelspec": {
      "display_name": "Python 3 (ipykernel)",
      "language": "python",
      "name": "python3"
    },
    "language_info": {
      "codemirror_mode": {
        "name": "ipython",
        "version": 3
      },
      "file_extension": ".py",
      "mimetype": "text/x-python",
      "name": "python",
      "nbconvert_exporter": "python",
      "pygments_lexer": "ipython3",
      "version": "3.8.11"
    },
    "colab": {
      "name": "practica1.ipynb",
      "provenance": [],
      "include_colab_link": true
    }
  },
  "nbformat": 4,
  "nbformat_minor": 5
}