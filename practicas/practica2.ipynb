{
  "cells": [
    {
      "cell_type": "markdown",
      "metadata": {
        "id": "view-in-github",
        "colab_type": "text"
      },
      "source": [
        "<a href=\"https://colab.research.google.com/github/vadillo87/EJERCICIOS-QUINCENA-1/blob/main/practicas/practica2.ipynb\" target=\"_parent\"><img src=\"https://colab.research.google.com/assets/colab-badge.svg\" alt=\"Open In Colab\"/></a>"
      ]
    },
    {
      "cell_type": "markdown",
      "id": "848b64b1",
      "metadata": {
        "id": "848b64b1"
      },
      "source": [
        "# Práctica 2\n",
        "* Puede resolver aquí los ejercicios abriendo una celda después de cada uno de los enunciados.  \n",
        "* Por favor, documente la solución de los ejercicios añadiendo suficientes **comentarios** del programador que expliquen el código."
      ]
    },
    {
      "cell_type": "markdown",
      "id": "2a4b20c9",
      "metadata": {
        "id": "2a4b20c9"
      },
      "source": [
        "## Ejercicio 2.1. El objeto persona\n",
        "* Crear la clase Persona con los atributos:\n",
        " - nombre\n",
        " - edad\n",
        " - profesión\n",
        " - altura\n",
        " - ciudad y \n",
        " - otro de su elección.  \n",
        "* Crear un par de objetos Persona.  \n",
        "* Finalmente deseamos que cada persona nos cuente algo de su vida.  \n",
        "* Establezca y utilice el método especial \\_\\_str\\_\\_."
      ]
    },
    {
      "cell_type": "code",
      "source": [
        "class Persona:\n",
        "    def __init__(self,nombre,edad,profesion,altura,ciudad,peso):\n",
        "        self.nombre = nombre\n",
        "        self.edad = edad\n",
        "        self.profesion = profesion      \n",
        "        self.altura = altura     \n",
        "        self.ciudad = ciudad\n",
        "        self.peso = peso\n",
        "   \n",
        "    def __str__(self):\n",
        "       \n",
        "        print(f\"{self.nombre}, tiene {self.edad}, vive en {self.ciudad}, mide {self.altura}m, pesa {self.peso}kg y trabaja de \", end=\"\")\n",
        "        return self.profesion\n",
        "\n",
        "\n",
        "\n",
        "Sergio = Persona(\"Sergio Vadillo\",\"34\",\"Actuario\",\"1.75\",\"Madrid\",\"80\")\n",
        "Gema =Persona(\"Gema Martin\",\"39\",\"Contable\",\"1.56\",\"Toledo\",\"50\")\n",
        "\n",
        "print(\"HOLA\")\n",
        "print(Gema)\n",
        "print(Sergio)\n",
        "\n",
        "\n"
      ],
      "metadata": {
        "colab": {
          "base_uri": "https://localhost:8080/"
        },
        "id": "2NbVKdAzJxKt",
        "outputId": "a6105c5b-005b-4d65-9020-dda07bd795d0"
      },
      "id": "2NbVKdAzJxKt",
      "execution_count": 13,
      "outputs": [
        {
          "output_type": "stream",
          "name": "stdout",
          "text": [
            "HOLA\n",
            "Gema Martin, tiene 39, vive en Toledo, mide 1.56m, pesa 50kg y trabaja de Contable\n",
            "Sergio Vadillo, tiene 34, vive en Madrid, mide 1.75m, pesa 80kg y trabaja de Actuario\n"
          ]
        }
      ]
    },
    {
      "cell_type": "markdown",
      "id": "8bdb087c",
      "metadata": {
        "id": "8bdb087c"
      },
      "source": [
        "## Ejercicio 2.2. El objeto tarjeta de crédito\n",
        "* Crear la clase Tarjeta y dotarla de una serie de atributos y métodos. \n",
        "* Crear tres instancias\n",
        " - ordenarlas por su límite de crédito\n",
        " - verificar si han llegado o no a su límite de crédito  \n",
        "* Algunos de los atributos creados serán de clase y otros serán atributos de instancia.\n",
        "* Procurar que los atributos sean privados."
      ]
    },
    {
      "cell_type": "code",
      "source": [
        "class Tarjeta:\n",
        "    def __init__(self, nombre_cliente, edad, credito_solicitado,limite_tarjeta):\n",
        "        self.__nombre = nombre_cliente       # atributo que pretende ser privado\n",
        "        self.__edad = edad                   # atributo que pretende ser privado\n",
        "        self.__credito = credito_solicitado  # atributo que pretende ser privado\n",
        "        self.__limite = limite_tarjeta       # atributo que pretende ser privado\n",
        "        self.moneda = \"€\"                    # atributo de clase\n",
        "        \n",
        "    def importe_concedido(self):\n",
        "        if self.__credito <= self.__limite:\n",
        "          print(f\"{self.__nombre}, no ha superado el limte, pues su credito {self.__credito}{self.moneda}, es menor o igual que su limite {self.__limite}{self.moneda} \")\n",
        "                \n",
        "        else:\n",
        "          print(f\"{self.__nombre}, ha superado el limte, pues su credito {self.__credito}{self.moneda}, es mayor que su limite {self.__limite}{self.moneda} \")\n",
        "\n",
        "    def ordena(self,*creditos):                # El asterisco toma un nº indeterminado de argumentos\n",
        "        lista_nombre = [self.__nombre]\n",
        "        lista_limite = [self.__limite]\n",
        "        for Tarjeta in creditos:\n",
        "            lista_nombre.append(Tarjeta.__nombre)\n",
        "            lista_limite.append(Tarjeta.__limite)\n",
        "        d = dict(zip(lista_nombre, lista_limite))  # diccionario\n",
        "        #print(d)\n",
        "        lista = sorted(d.items(), key=lambda x: x[1], reverse=True)\n",
        "        for i in lista:\n",
        "            print(i[0],\"\\t\", i[1])\n",
        "\n",
        "    \n",
        "c1 = Tarjeta(\"Ana\", 35, 30000, 200000)   # instanciamos el objeto c1 (cliente 1)\n",
        "c2 = Tarjeta(\"Jose\", 35, 30000, 10000)   # instanciamos el objeto c2 (cliente 2)\n",
        "c3 = Tarjeta(\"Sergio\", 35, 20000, 20000)   # instanciamos el objeto c3 (cliente 3)\n",
        "\n",
        "print(c1.importe_concedido())\n",
        "print(c2.importe_concedido())\n",
        "print(c3.importe_concedido())\n",
        "\n",
        "print(\"{:>10}\".format(\"RANKING\"))\n",
        "print(\"=\"*14)\n",
        "\n",
        "c1.ordena(c2,c3)\n"
      ],
      "metadata": {
        "colab": {
          "base_uri": "https://localhost:8080/"
        },
        "id": "Mf1yZkMgTfj_",
        "outputId": "eaaa0f70-cdf0-46a4-d1b4-e5e1ac4689c1"
      },
      "id": "Mf1yZkMgTfj_",
      "execution_count": 63,
      "outputs": [
        {
          "output_type": "stream",
          "name": "stdout",
          "text": [
            "Ana, no ha superado el limte, pues su credito 30000€, es menor o igual que su limite 200000€ \n",
            "None\n",
            "Jose, ha superado el limte, pues su credito 30000€, es mayor que su limite 10000€ \n",
            "None\n",
            "Sergio, no ha superado el limte, pues su credito 20000€, es menor o igual que su limite 20000€ \n",
            "None\n",
            "   RANKING\n",
            "==============\n",
            "Ana \t 200000\n",
            "Sergio \t 20000\n",
            "Jose \t 10000\n"
          ]
        }
      ]
    },
    {
      "cell_type": "markdown",
      "id": "43de316c",
      "metadata": {
        "id": "43de316c"
      },
      "source": [
        "## Ejercicio 2.3. Objetos geométricos\n",
        "* Crear la clase **Rectángulo** con los atributos ancho, largo.\n",
        " - Incluir en el método **constructor** los argumentos ancho y largo.\n",
        " - Crear un método para calcular el **área** del rectángulo y otro para calcular su **perímetro**.\n",
        "* Crear la clase **Circulo**.\n",
        " - Incluir en el método **constructor** el argumento **radio**.\n",
        " - Crear un método para calcular el **área** del círculo y otro para calcular su **perímetro**.\n",
        " - Para usar **PI** utilice ```math.pi```\n",
        "* Crear dos objetos del tipo rectángulo y otros dos objetos del tipo circulo\n",
        " - proporcione valores aleatorios a sus parámetros\n",
        " - calcule sus superficies y perímetros redondeando a dos decimales"
      ]
    },
    {
      "cell_type": "code",
      "source": [
        "class Rectangulo:\n",
        "    def __init__(self, ancho, largo):\n",
        "        self.ancho = ancho\n",
        "        self.largo=largo\n",
        "        \n",
        "    def area_rectangulo(self):\n",
        "        return self.largo*self.ancho\n",
        "    \n",
        "    def perimetro_rectangulo(self):\n",
        "        return 2*self.largo+2*self.ancho\n",
        "    \n",
        "import random\n",
        "\n",
        "n1=(random.randint(0,1000))         #creamos los numeros aleatorios\n",
        "n2=(random.randint(0,1000))\n",
        "n3=(random.randint(0,1000))\n",
        "n4=(random.randint(0,1000))\n",
        "\n",
        "\n",
        "print(n1)                           #imprimimos los dos primeros para ver que resultado sale \n",
        "print(n2)\n",
        "\n",
        "h1 = Rectangulo(n1,n2)            \n",
        "h2 = Rectangulo(n3,n4)\n",
        "print(\"Área Rectangulo 1:\", round(h1.area_rectangulo(),2))          #area rectangulo 1 coincide con los numeros obtenidos en n1 y n2\n",
        "print(\"Perímetro Rectangulo 1:\", round(h1.perimetro_rectangulo(),2))   #perimetro rectangulo 1 coincide con los numeros obtenidos en n1 y n2\n",
        "print(\"Área Rectangulo 2:\", round(h2.area_rectangulo(),2))\n",
        "print(\"Perímetro Rectangulo 2:\", round(h2.perimetro_rectangulo(),2))\n",
        "\n",
        "import math\n",
        "class Circulo:\n",
        "    def __init__(self, radio):\n",
        "        self.radio = radio\n",
        "        \n",
        "    def perimetro_circulo(self):\n",
        "        return 2*math.pi*self.radio\n",
        "\n",
        "    def area_circulo(self):\n",
        "        return math.pi*self.radio**2\n",
        "    \n",
        "n5=(random.randint(0,1000))\n",
        "n6=(random.randint(0,1000))\n",
        "\n",
        "c1 = Circulo(n5)\n",
        "c2 = Circulo(n6)\n",
        "print(\"Área Circulo 1:\",round(c1.area_circulo(),2))\n",
        "print(\"Perímetro Circulo 1:\", round(c1.perimetro_circulo(),2))\n",
        "print(\"Área Circulo 2:\",round(c2.area_circulo(),2))\n",
        "print(\"Perímetro Circulo 2:\", round(c2.perimetro_circulo(),2))\n"
      ],
      "metadata": {
        "colab": {
          "base_uri": "https://localhost:8080/"
        },
        "id": "9EzYnd_4BYVs",
        "outputId": "426ddb01-f7a6-4f28-82a7-8a8c92b568f3"
      },
      "id": "9EzYnd_4BYVs",
      "execution_count": 86,
      "outputs": [
        {
          "output_type": "stream",
          "name": "stdout",
          "text": [
            "208\n",
            "546\n",
            "Área Rectangulo 1: 113568\n",
            "Perímetro Rectangulo 1: 1508\n",
            "Área Rectangulo 2: 6072\n",
            "Perímetro Rectangulo 2: 314\n",
            "Área Circulo 1: 463246.69\n",
            "Perímetro Circulo 1: 2412.74\n",
            "Área Circulo 2: 2345186.35\n",
            "Perímetro Circulo 2: 5428.67\n"
          ]
        }
      ]
    },
    {
      "cell_type": "markdown",
      "id": "3a83c955",
      "metadata": {
        "id": "3a83c955"
      },
      "source": [
        "## Ejercicio 2.4. Coordenadas cartesianas\n",
        "* Cree una clase llamada **Punto** con sus dos coordenadas X e Y.\n",
        " - Implemente el método **constructor** para crear puntos fácilmente. Si no se recibe una coordenada, su valor será cero.\n",
        " - Sobrescriba el método **string** ```__str__```, para que al imprimir por pantalla un punto aparezca en formato (X,Y)\n",
        " - Implemente el método **cuadrante** que indicará a qué cuadrante pertenece el punto, o si es el origen.\n",
        " - Implemente el método **vector**, que toma otro punto y calcula el vector resultante entre los dos puntos.\n",
        " - Implemente el método **distancia**, que toma otro punto y calcule la distancia entre ambos puntos.\n",
        "* Cree una clase llamada **Rectangulo** con dos puntos (inicial y final) que formarán la diagonal del rectángulo.\n",
        " - Implemente el método **constructor** para crear ambos puntos fácilmente, si no se reciben, por defecto, se crearán dos puntos en el origen.\n",
        " - Implemente el método **base** que muestre la base.\n",
        " - Implemente el método **altura** que muestre la altura.\n",
        " - Implemente el método **area** que muestre el área.\n",
        "* Instancie los puntos A(3, 4),  B(-6,6), C(-2, -1) y D(0,0) y muéstrelos en pantalla.\n",
        "* Consulte a que cuadrante pertenecen los puntos A, C y D.\n",
        "* Muestre los vectores AB y BA.\n",
        "* Calcule la distancia entre los puntos 'A y B' y 'B y A'. \n",
        "* Determine cuál de los 3 puntos A, B o C, se encuentra más alejado del origen. \n",
        "* Cree un rectángulo utilizando los puntos A y B.\n",
        "* Muestre la base, altura y área del rectángulo."
      ]
    },
    {
      "cell_type": "code",
      "source": [
        "import math\n",
        "\n",
        "class Punto2D:\n",
        "    def __init__(self, x=0, y=0):\n",
        "        self.x = x\n",
        "        self.y = y\n",
        "       \n",
        "    def __str__(self):\n",
        "        return f\"({self.x},{self.y})\"\n",
        "\n",
        "    def cuadrante(x, y):\n",
        "      if x > 0 and y > 0: return \"Primer cuadrante.\"\n",
        "      elif x < 0 and y > 0: return \"Segundo cuadrante.\"\n",
        "      elif x < 0 and y < 0: return \"Tercer cuadrante.\"\n",
        "      elif x > 0 and y < 0: return \"Cuarto cuadrante.\"\n",
        "      else: return \"Origen.\"\n",
        "\n",
        "\n",
        "    def vector(self,b):\n",
        "        return f\"El vector entre {self} y {b} es ({b.x-self.x},{b.y-self.y})\"\n",
        "    def distancia(self,b):\n",
        "        \n",
        "        return f\"La distancia entre {self} y {b} es {math.sqrt((b.x-self.x)**2+(b.y-self.y)**2)}\"\n",
        "class Rectangulo:\n",
        "    def __init__(self, base=0, altura=0):\n",
        "        self.base = base\n",
        "        self.altura=altura\n",
        "        \n",
        "    def area_rectangulo(self):\n",
        "        return self.base*self.altura\n",
        "    \n",
        "#creamos los puntos A B C y D\n",
        "print(\"-------------------------CREAMOS LOS PUNTOS A B C y D---------------------\")\n",
        "\n",
        "\n",
        "a = Punto2D(3,4)\n",
        "b = Punto2D(-6,6)\n",
        "c = Punto2D(-2,-1)\n",
        "d = Punto2D(0,0)\n",
        "\n",
        "print(\"Punto a:\",a)\n",
        "print(\"Punto b:\",b)\n",
        "print(\"Punto c:\",c)\n",
        "print(\"Punto d:\",d)\n",
        "\n",
        "\n",
        "# cuadrantes \n",
        "\n",
        "print(\"-------------------------CUADRANTES----------------------\")\n",
        "\n",
        "print(f\"Punto,({a.x},{a.y}),esta en el \")\n",
        "print(f\"Punto,({b.x},{b.y}),esta en el \")\n",
        "print(f\"Punto,({c.x},{c.y}),esta en el \")\n",
        "print(f\"Punto,({d.x},{d.y}),esta en el\") #{cuadrante(x,y)}\")\n",
        "\n",
        "\n",
        "#vectores\n",
        "\n",
        "print(\"-------------------------VECTOR AB y BA----------------------\")\n",
        "\n",
        "print(a.vector(b),2)\n",
        "print(b.vector(a),2)\n",
        "\n",
        "# distancia de A a B y de B a A\n",
        "\n",
        "print(\"-------------------------DISTANCIA DE A a B y DE B a A----------------------\")\n",
        "print(a.distancia(b))\n",
        "print(b.distancia(a))  \n",
        "\n",
        "#distancia al origen\n",
        "\n",
        "print(\"-------------------------DISTANCIA DEL ORIGEN RESPECTO DEL PUNTO A B y C----------------------\")\n",
        "e=math.sqrt((d.x-a.x)**2+(d.y-a.y)**2)  #distancia desde D hasta A\n",
        "f=math.sqrt((d.x-b.x)**2+(d.y-b.y)**2)  #distancia desde D hasta B\n",
        "g=math.sqrt((d.x-c.x)**2+(d.y-c.y)**2)  #distancia desde D hasta c\n",
        "\n",
        "\n",
        "\n",
        "lista=[e,f,g]\n",
        "lista.sort(reverse=True)\n",
        "\n",
        "print(f\"La distancia entre el punto A y el origen o punto D es {e}\")\n",
        "print(f\"La distancia entre el punto A y el origen o punto D es {f}\")\n",
        "print(f\"La distancia entre el punto A y el origen o punto D es {g}\")\n",
        "\n",
        "if e>f and e>g:\n",
        "  print(f\"El punto A es el que mas distancia tiene con respecto al Origen\")\n",
        "elif f>e and f>g:\n",
        "  print(f\"El punto B es el que mas distancia tiene con respecto al Origen\")\n",
        "else:\n",
        "  print(f\"El punto C es el que mas distancia tiene con respecto al Origen\")\n",
        "\n",
        "#creamos el triangulo con las coordenadas x e y de los puntos A y B\n",
        "\n",
        "print(\"-------------------------CREAMOS LA BASE Y ALTURA DEL RECTANGULO----------------------\")\n",
        "base_rectangulo=a.x-b.x\n",
        "altura_rectangulo=abs(a.y-b.y)\n",
        "print(f\"La base del rectanculo es {base_rectangulo}\")\n",
        "print(f\"La altura del rectangulo es {altura_rectangulo}\")\n",
        "\n",
        "print(\"-------------------------CALCULAMOS EL AREA DEL RECTANGULO----------------------\")\n",
        "h1 = Rectangulo(base_rectangulo,abs(altura_rectangulo))            \n",
        "\n",
        "print(\"Área Rectangulo :\", round(h1.area_rectangulo(),2))   \n",
        "\n",
        "\n",
        "\n",
        "\n",
        "\n",
        "\n",
        "\n"
      ],
      "metadata": {
        "colab": {
          "base_uri": "https://localhost:8080/"
        },
        "id": "2Uz1K9ejbTRP",
        "outputId": "6b8d468f-b8ec-436b-a83c-e1474a7ee5ad"
      },
      "id": "2Uz1K9ejbTRP",
      "execution_count": 158,
      "outputs": [
        {
          "output_type": "stream",
          "name": "stdout",
          "text": [
            "-------------------------CREAMOS LOS PUNTOS A B C y D---------------------\n",
            "Punto a: (3,4)\n",
            "Punto b: (-6,6)\n",
            "Punto c: (-2,-1)\n",
            "Punto d: (0,0)\n",
            "-------------------------CUADRANTES----------------------\n",
            "Punto,(3,4),esta en el \n",
            "Punto,(-6,6),esta en el \n",
            "Punto,(-2,-1),esta en el \n",
            "Punto,(0,0),esta en el\n",
            "-------------------------VECTOR AB y BA----------------------\n",
            "El vector entre (3,4) y (-6,6) es (-9,2) 2\n",
            "El vector entre (-6,6) y (3,4) es (9,-2) 2\n",
            "-------------------------DISTANCIA DE A a B y DE B a A----------------------\n",
            "La distancia entre (3,4) y (-6,6) es 9.219544457292887\n",
            "La distancia entre (-6,6) y (3,4) es 9.219544457292887\n",
            "-------------------------DISTANCIA DEL ORIGEN RESPECTO DEL PUNTO A B y C----------------------\n",
            "La distancia entre el punto A y el origen o punto D es 5.0\n",
            "La distancia entre el punto A y el origen o punto D es 8.48528137423857\n",
            "La distancia entre el punto A y el origen o punto D es 2.23606797749979\n",
            "El punto B es el que mas distancia tiene con respecto al Origen\n",
            "-------------------------CREAMOS LA BASE Y ALTURA DEL RECTANGULO----------------------\n",
            "La base del rectanculo es 9\n",
            "La altura del rectangulo es 2\n",
            "-------------------------CALCULAMOS EL AREA DEL RECTANGULO----------------------\n",
            "Área Rectangulo : 18\n"
          ]
        }
      ]
    },
    {
      "cell_type": "code",
      "source": [
        ""
      ],
      "metadata": {
        "id": "5k3gwh9NpZ_4"
      },
      "id": "5k3gwh9NpZ_4",
      "execution_count": null,
      "outputs": []
    },
    {
      "cell_type": "markdown",
      "id": "c9031a0c",
      "metadata": {
        "id": "c9031a0c"
      },
      "source": [
        "## Ejercicio 2.5. Importar un módulo que trabaja con matrices\n",
        "* Inicializar el generador de números aleatorios con ```random.seed()```\n",
        "* Crear dos funciones:\n",
        " - Función 1. Genera una matriz de dimensión n × m donde, por defecto, las filas son n=3 y las columnas son m=4. Los elementos de la matriz contendrán números aleatorios entre 1 y 9. La función retorna la matriz generada.\n",
        " - Función 2. Tomar la matriz anterior y sustituir los valores pares por 1 y los impares por 0. La función retorna la matriz de ceros y unos generada. \n",
        "*Al ejecutar el procedimiento principal:\n",
        " - Mostrar la matriz generada por la función 1.\n",
        " - Mostrar la matriz generada por la función 2.\n",
        "* Usar el condicional ```if __name__ == \"__main__\"``` que permite convertir el archivo .py en un **módulo** que se pueda importar desde otros archivos y así poder usar las funciones creadas como si se tratara de una librería.\n",
        "\n",
        "![matriz_01.png](https://github.com/financieras/pyCourse/blob/main/jupyter/img/matriz_01.png?raw=1)"
      ]
    },
    {
      "cell_type": "markdown",
      "id": "3ceeeced",
      "metadata": {
        "id": "3ceeeced"
      },
      "source": [
        "## Ejercicio 2.6. Hacer ceros en una matriz\n",
        "Usando programación orientada a objetos.  \n",
        "Generar y mostrar una matriz inicial de ceros y unos distribuidos aleatoriamente.\n",
        "* Los atributos son las filas (por defecto 5), columnas (por defecto 5) y probabilidad (por defecto, 0.1).\n",
        "* La probabilidad, en tanto por uno, es la probabilidad de que un elemento de la matriz inicial sea cero.\n",
        "* La matriz de salida se obtiene convirtiendo  en ceros toda la fila y columna donde se encuentre un cero en la matriz inicial.\n",
        "\n",
        "**Ejemplo**  \n",
        "Matriz inicial: [[1, 1, 1, 1, 1, 1], [1, 1, 0, 1, 1, 1], [1, 1, 1, 1, 1, 1], [1, 1, 0, 1, 1, 1], [1, 0, 1, 1, 1, 1], [1, 1, 1, 1, 1, 1]]  \n",
        "Matriz final: &nbsp;&nbsp;[[1, 0, 0, 1, 1, 1], [0, 0, 0, 0, 0, 0], [1, 0, 0, 1, 1, 1], [0, 0, 0, 0, 0, 0], [0, 0, 0, 0, 0, 0], [1, 0, 0, 1, 1, 1]]\n",
        "\n",
        "<img src=\"https://github.com/financieras/pyCourse/blob/main/jupyter/img/zeroes.png?raw=1\" width=\"600\">"
      ]
    },
    {
      "cell_type": "markdown",
      "id": "030b3ac8",
      "metadata": {
        "id": "030b3ac8"
      },
      "source": [
        "## Ejercicio 2.7. POO\n",
        "Utilizando programación orientada a objetos cree un caso de su elección. Explique con detalle lo que se pretende desarrollar y añada suficientes comentarios del programador para dotar el código de las explicaciones necesarias.\n",
        "* ¿Ha creado un constructor?\n",
        "* ¿Ha instanciado algunos objetos?\n",
        "* ¿Los objetos han cambiado algunos atributos?\n",
        "* ¿Se han ejecutado algunos métodos?\n"
      ]
    }
  ],
  "metadata": {
    "kernelspec": {
      "display_name": "Python 3 (ipykernel)",
      "language": "python",
      "name": "python3"
    },
    "language_info": {
      "codemirror_mode": {
        "name": "ipython",
        "version": 3
      },
      "file_extension": ".py",
      "mimetype": "text/x-python",
      "name": "python",
      "nbconvert_exporter": "python",
      "pygments_lexer": "ipython3",
      "version": "3.8.11"
    },
    "colab": {
      "name": "practica2.ipynb",
      "provenance": [],
      "include_colab_link": true
    }
  },
  "nbformat": 4,
  "nbformat_minor": 5
}