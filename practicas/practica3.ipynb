{
  "cells": [
    {
      "cell_type": "markdown",
      "metadata": {
        "id": "view-in-github",
        "colab_type": "text"
      },
      "source": [
        "<a href=\"https://colab.research.google.com/github/vadillo87/EJERCICIOS-QUINCENA-1/blob/main/practicas/practica3.ipynb\" target=\"_parent\"><img src=\"https://colab.research.google.com/assets/colab-badge.svg\" alt=\"Open In Colab\"/></a>"
      ]
    },
    {
      "cell_type": "markdown",
      "id": "8b40af46",
      "metadata": {
        "id": "8b40af46"
      },
      "source": [
        "# Práctica 3\n",
        "* Puede resolver aquí los ejercicios abriendo una celda después de cada uno de los enunciados.  \n",
        "* Por favor, documente la solución de los ejercicios añadiendo suficientes **comentarios** del programador que expliquen el código."
      ]
    },
    {
      "cell_type": "markdown",
      "id": "90a31d0f",
      "metadata": {
        "id": "90a31d0f"
      },
      "source": [
        "## Ejercicio 3.1. Trabajar con un DataSet\n",
        "* Obtener un dataset, preferiblemente con datos financieros, actuariales, económicos o estadísticos.\n",
        "* Crear un modelo de análisis de los datos, utilizando las librerías principales para el análisis de datos, por ejemplo:\n",
        "    - NumPy\n",
        "    - Pandas\n",
        "    - Matplotlib"
      ]
    },
    {
      "cell_type": "markdown",
      "id": "90020a63",
      "metadata": {
        "id": "90020a63"
      },
      "source": [
        "## Ejercicio 3.2. Gráfico histórico de un índice o valor bursátil\n",
        "* Descargar un archivo con formato ***csv*** de la página de Yahoo Finanzas con la cotización de:\n",
        " - un índice (IBEX, NASDAQ, ...) o\n",
        " - valor bursátil,\n",
        "* o bien, de otra fuente disponible.\n",
        "* Crear un procedimiento que lea el fichero y finalmente obtenga un gráfico del histórico del índice o valor.\n",
        "* Tomar el periodo histórico más largo posible.\n",
        "* Alternativamente o adicionalmente, si disponemos de una API o fuente de información diferente de un *csv* descargado de forma manual, también se podría realizar de una forma más automatizada."
      ]
    },
    {
      "cell_type": "markdown",
      "id": "42322381",
      "metadata": {
        "id": "42322381"
      },
      "source": [
        "## Ejercicio 3.3. Trabajar con la Librería openpyxl\n",
        "* Crear una aplicación programada en Python que permita interactuar con la **hoja de cálculo** tanto para lectura, como para escritura.\n",
        "* Utilice la Librería openpyxl, u otra que considere adecuada para interactuar con hoja de cálculo"
      ]
    },
    {
      "cell_type": "markdown",
      "id": "9adbef23",
      "metadata": {
        "id": "9adbef23"
      },
      "source": [
        "## Ejercicio 3.4. Librería actuarial\n",
        "* Utilizando la librería actuarial **pyliferisk**, o cualquier otra que considere adecuada en este campo, cree un caso donde se muestren diferentes cálculos y procedimientos que se puedan realizar con ella.\n",
        "* Alternativamente, puede realizar su propia librería actuarial y probarla creando ejemplos prácticos. En este caso, no olvide documentar la funcionalidad de los métodos que programe, utilizando POO."
      ]
    },
    {
      "cell_type": "code",
      "source": [
        "!pip install pyliferisk"
      ],
      "metadata": {
        "id": "S8JxOu0_ArsS",
        "outputId": "5bd32f55-bcc2-45b4-88ca-b92b05c61dec",
        "colab": {
          "base_uri": "https://localhost:8080/"
        }
      },
      "id": "S8JxOu0_ArsS",
      "execution_count": null,
      "outputs": [
        {
          "output_type": "stream",
          "name": "stdout",
          "text": [
            "Looking in indexes: https://pypi.org/simple, https://us-python.pkg.dev/colab-wheels/public/simple/\n",
            "Requirement already satisfied: pyliferisk in /usr/local/lib/python3.7/dist-packages (1.11)\n"
          ]
        }
      ]
    },
    {
      "cell_type": "code",
      "source": [
        "from pyliferisk import MortalityTable\n",
        "from pyliferisk.mortalitytables import GKM95, SPAINPERM2000\n",
        "import matplotlib.pyplot as plt\n",
        "from pyliferisk import *\n",
        "\n",
        "#comparamos la tabla GKM95 con la nueva tabla introducida por la DGS mas actualizada\n",
        "tabGK = MortalityTable(nt=GKM95)\n",
        "tabPERM = MortalityTable(nt=SPAINPERM2000)\n",
        "\n",
        "#vamos a ver hasta que edad duran las tablas\n",
        "print(\"----------------AÑO LIMITE TABLA---------------\")\n",
        "print(tabGK.w)\n",
        "print(tabPERM.w)\n",
        "\n",
        "#lanzamos sus lx de toda la tabla \n",
        "print(\"----------------LX AÑO A AÑO---------------\")\n",
        "print(tabGK.lx)\n",
        "print(tabPERM.lx)\n",
        "\n",
        "#comprobamos con la lx si coincide con la tasa de mortalidad\n",
        "print(\"----------------Qx CALCULADA POR LAS Lx---------------\")\n",
        "print((tabGK.lx[50]-tabGK.lx[51])/tabGK.lx[50])\n",
        "print((tabPERM.lx[50]-tabPERM.lx[51])/tabPERM.lx[50])\n",
        "\n",
        "#vemos como coincide la qx \n",
        "print(\"----------------Qx segun libreria Python---------------\")\n",
        "print(tabGK.qx[50] / 1000)\n",
        "print(tabPERM.qx[50] / 1000)\n",
        "\n",
        "#observamos como la tabla PERM azul es menos agresiva (mas barata) que la GK, esto tiene sentido porque según pasan los años la Esperanza de Vida es mayor.\n",
        "\n",
        "x = range(0, tabPERM.w)\n",
        "y = tabPERM.lx[:tabPERM.w]\n",
        "z = tabGK.lx[:tabPERM.w]\n",
        "plt.plot(x,y, color = 'blue')\n",
        "plt.plot(x,z, color = 'red')\n",
        "plt.ylabel('lx')\n",
        "plt.xlabel('años')\n",
        "\n",
        "#adicionalmente vamos a ver un producto de vida a 10 años, prima unica. \n",
        "#Este producto nos sirve para poder obtener a modo ejemplo como se puede calcular la dotación por tablas que realizan las empresas aseguradoras de vida. \n",
        "#En este caso sale menos Provisión (consideramos que la provisión matemátic es la prima)y por lo tanto no se dota insuficiencia de tablas, pero hay muchas situaciones\n",
        "#en las que si se debe dotar provision.\n",
        "\n",
        "print(\"----------------IMPACTO TABLAS---------------\")\n",
        "\n",
        "nt1 = Actuarial(nt=GKM95, i=0.06)\n",
        "x = 30\n",
        "n = 10\n",
        "C = 1000\n",
        "\n",
        "print(C * (Axn(nt1, x, n) ))\n",
        "\n",
        "nt2 = Actuarial(nt=SPAINPERM2000, i=0.06)\n",
        "x = 30\n",
        "n = 10\n",
        "C = 1000\n",
        "\n",
        "print(C * (Axn(nt2, x, n) ))\n",
        "\n",
        "\n",
        "#Por ultimo tambien vamos a comprobar aunque no es exactamente así porque las polizas y las carteras estan casadas y se hace solo con la parte de la cola no casada.\n",
        "print(\"----------------IMPACTO TIPOS---------------\")\n",
        "nt3 = Actuarial(nt=SPAINPERM2000, i=0.0054)\n",
        "x = 30\n",
        "n = 10\n",
        "C = 1000\n",
        "\n",
        "print(C * (Axn(nt3, x, n) ))\n",
        "\n",
        "nt4 = Actuarial(nt=SPAINPERM2000, i=0.0046)\n",
        "x = 30\n",
        "n = 10\n",
        "C = 1000\n",
        "\n",
        "print(C * (Axn(nt4, x, n) ))\n",
        "\n",
        "print(\"----------------Comparativa grafica entre las dos tablas AZUL(PERM) ROJA(GKM95)---------------\")"
      ],
      "metadata": {
        "id": "dj11xbZNdiJv",
        "outputId": "e7ba96e7-b6da-489f-e950-e0c2577949c8",
        "colab": {
          "base_uri": "https://localhost:8080/",
          "height": 629
        }
      },
      "id": "dj11xbZNdiJv",
      "execution_count": null,
      "outputs": [
        {
          "output_type": "stream",
          "name": "stdout",
          "text": [
            "----------------AÑO LIMITE TABLA---------------\n",
            "120\n",
            "115\n",
            "----------------LX AÑO A AÑO---------------\n",
            "[100000.0, 100000.0, 100000.0, 100000.0, 100000.0, 100000.0, 100000.0, 100000.0, 100000.0, 100000.0, 100000.0, 100000.0, 100000.0, 100000.0, 100000.0, 100000.0, 99842.15, 99682.891786535, 99523.33934994147, 99364.59962367831, 99207.75260317232, 99053.95082431163, 98904.43879093742, 98759.61302121585, 98618.99908419624, 98482.11591346738, 98348.43628932645, 98217.38699797093, 98088.3588166717, 97960.66739116416, 97833.6319976913, 97706.49719291029, 97578.4625989887, 97448.6930015783, 97316.29920726636, 97180.34833727381, 97039.88386178711, 96893.88735651705, 96741.24072637559, 96580.73733388646, 96411.08361068575, 96230.85273098393, 96038.5546179716, 95832.59993759336, 95611.2649647775, 95372.52363616045, 95113.99733633992, 94832.9830312097, 94526.43541356132, 94191.03671542693, 93823.1547833275, 93418.89895631257, 92974.16894594114, 92484.61345935629, 91945.71486518996, 91352.90406316814, 90701.6126689402, 89987.2830482047, 89205.43753816867, 88351.70581875338, 87421.88363154624, 86411.97728964625, 85318.25225189347, 84137.30259969844, 82866.13099083141, 81502.17104794852, 80029.37791580945, 78426.2854379645, 76674.11673922368, 74757.12580733297, 72663.0516263557, 70383.50996856463, 67914.40013205941, 65256.23051089061, 62414.38692837184, 59399.285207513436, 56226.395169083335, 52916.09426670114, 49493.34370768582, 45987.21544209587, 42430.196302080636, 38857.34889340505, 35305.30537342155, 31811.16401432778, 28411.314049132485, 25140.25127550214, 22029.431779023293, 19106.247343821688, 16393.15639974954, 13907.040790736042, 11658.816060168941, 9653.31315676292, 7889.45301943999, 6360.671893762101, 5055.59177886875, 3958.8635485891705, 3052.1353385791786, 2315.0718183168206, 1726.3617878138539, 1264.6502982951506, 909.3460381989491, 641.2679162305767, 443.112474888206, 299.73993304957537, 198.2899852836094, 128.15251732496748, 80.82411387888003, 49.685460139801634, 29.733493496032125, 17.298461860047507, 9.769878914549396, 5.3483521698527365, 2.833197035486949, 1.4496981920696614, 0.715111618248518, 0.3393445621204567, 0.15454925491150537, 0.0673812496321456, 0.02804319340252882, 0.01110618144602807, 0.004170817601477671, 0.0]\n",
            "[100000.0, 97321.54, 97115.88012167199, 96969.48764397658, 96874.90360572864, 96786.87338082211, 96717.55462210678, 96656.70960849401, 96603.76106297049, 96561.10084208507, 96522.93989503228, 96483.58749243707, 96452.6355575695, 96417.65218665278, 96383.57818837003, 96349.04395230513, 96312.7589023527, 96271.96081768167, 96225.64437733228, 96176.62703408647, 96125.0859796589, 96074.94713481191, 96023.88330040975, 95976.42829728269, 95927.88341984992, 95878.55730219543, 95829.55377155828, 95777.70040001249, 95722.04397831004, 95666.01786596954, 95606.58056906941, 95548.75770914124, 95491.64821665848, 95438.62170440376, 95388.66912980367, 95335.92873464181, 95275.63829331002, 95214.57613672783, 95154.29578857566, 95092.6643511934, 95031.88112014011, 94962.08970664548, 94897.74339466025, 94824.22611285241, 94747.2383236714, 94666.4189293813, 94579.35422389195, 94492.59658226237, 94399.60641796576, 94305.3672908787, 94194.68108128938, 94070.81507566749, 93933.84796891731, 93794.2904509899, 93634.4649800614, 93469.1720590321, 93295.16984832702, 93118.77667069479, 92925.99286735345, 92719.25111842215, 92501.62049219699, 92263.69707412901, 92011.69723831044, 91739.92228817765, 91458.84951427113, 91158.59925720074, 90828.56866444997, 90472.41168100292, 90089.55957649242, 89676.94038467613, 89224.1166742037, 88735.87338535079, 88193.60846309291, 87602.5260798124, 86940.32106466989, 86206.82296391147, 85392.53055555896, 84485.18368288781, 83472.6794475586, 82356.3993053064, 81119.98268253583, 79730.55961914935, 78157.89824982951, 76426.92746150072, 74487.84638602576, 72292.82363115308, 69856.68560186576, 67208.86573348688, 64308.6822011286, 61186.19986032568, 57813.904099163876, 54185.347380359286, 50459.31906042257, 46444.6494876777, 42174.811726142485, 37656.50605644801, 32961.76024252307, 28185.129830210015, 23442.16154899912, 18864.826331212313, 14584.112377782636, 10777.898226624362, 7457.572675744648, 5002.718732633729, 3247.940096381459, 2037.04631758862, 1231.7387598099933, 716.4962778876742, 399.97974815312676, 212.39684588452522, 106.64785466815427, 50.2772114219173, 22.06450617298836, 8.920128233084867, 3.278691253480907, 1.0773254868337703, 0.0]\n",
            "----------------Qx CALCULADA POR LAS Lx---------------\n",
            "0.0043087000000000845\n",
            "0.0013149999999999852\n",
            "----------------Qx segun libreria Python---------------\n",
            "0.0043087\n",
            "0.001315\n",
            "----------------IMPACTO TABLAS---------------\n",
            "10.53758633767713\n",
            "4.395413301189762\n",
            "----------------IMPACTO TIPOS---------------\n",
            "5.8326583476053875\n",
            "5.858604121686814\n",
            "----------------Comparativa grafica entre las dos tablas AZUL(PERM) ROJA(GKM95)---------------\n"
          ]
        },
        {
          "output_type": "display_data",
          "data": {
            "text/plain": [
              "<Figure size 432x288 with 1 Axes>"
            ],
            "image/png": "[encoded data removed]"
          },
          "metadata": {
            "needs_background": "light"
          }
        }
      ]
    },
    {
      "cell_type": "markdown",
      "id": "37241230",
      "metadata": {
        "id": "37241230"
      },
      "source": [
        "## Ejercicio 3.5. Trabajar con una API\n",
        "* Localizar una API con datos que puedan resultar de interés.\n",
        "* Crear una aplicación programada en Python que utilice los datos de la API, preferiblemente con datos en tiempo real.\n",
        "* Mostrar la información que nuestra aplicación pueda procesar, según ciertos filtros, que faciliten el uso de la API."
      ]
    },
    {
      "cell_type": "markdown",
      "id": "67115e56",
      "metadata": {
        "id": "67115e56"
      },
      "source": [
        "## Ejercicio 3.6. Página web con Flask\n",
        "* Crear una aplicación de página web programada en Python con el framework Flask.\n",
        "* Puede desplegarla en alguna plataforma gratuita como, por ejemplo, [Pythonanywhere](https://www.pythonanywhere.com) o [Heroku](https://www.heroku.com)."
      ]
    },
    {
      "cell_type": "markdown",
      "id": "7e80d728",
      "metadata": {
        "id": "7e80d728"
      },
      "source": [
        "## Ejercicio 3.7. Bot de Telegram que proporciona cotizaciones en tiempo real\n",
        "Crear un Bot de Telegram programado en Python que realizando **Web Scraping** nos pueda dar precios en tiempo real de valores cotizados en bolsa, o en mercados financieros internacionales.  \n",
        "Adjuntar capturas de pantalla mostrando el funcionamiento del bot en Telegram."
      ]
    },
    {
      "cell_type": "markdown",
      "metadata": {
        "id": "ovrHbDBWZHwg"
      },
      "source": [
        "## Ejercicio 3.8. Estrategias de Trading\n",
        "* Elegir una compañía cotizada y realizar con ella diferentes estrategias de trading, con gráficos e indicadores bursátiles.\n",
        "* Puede utilizar la librería TA-Lib u otro sistema para efectuar el análisis."
      ],
      "id": "ovrHbDBWZHwg"
    },
    {
      "cell_type": "code",
      "source": [
        "!pip install talib-binary   # para cargar la librería TA-Lib en el entorno de Colab"
      ],
      "metadata": {
        "id": "A2ADaotHb5rd",
        "outputId": "51b12e9e-072e-4e89-a138-cedea9a864df",
        "colab": {
          "base_uri": "https://localhost:8080/"
        }
      },
      "id": "A2ADaotHb5rd",
      "execution_count": 1,
      "outputs": [
        {
          "output_type": "stream",
          "name": "stdout",
          "text": [
            "Looking in indexes: https://pypi.org/simple, https://us-python.pkg.dev/colab-wheels/public/simple/\n",
            "Collecting talib-binary\n",
            "  Downloading talib_binary-0.4.19-cp37-cp37m-manylinux1_x86_64.whl (2.4 MB)\n",
            "\u001b[K     |████████████████████████████████| 2.4 MB 5.0 MB/s \n",
            "\u001b[?25hRequirement already satisfied: numpy in /usr/local/lib/python3.7/dist-packages (from talib-binary) (1.21.6)\n",
            "Installing collected packages: talib-binary\n",
            "Successfully installed talib-binary-0.4.19\n"
          ]
        }
      ]
    },
    {
      "cell_type": "code",
      "source": [
        "!pip install yfinance       # para cargar la librería de Yahoo finance en el entorno de Colab\n",
        "                            # si da error, ejecutar una segunda vez"
      ],
      "metadata": {
        "id": "FOk6XVepb-kG",
        "outputId": "8aa4a8c5-bb45-4c35-b894-0f14537cf920",
        "colab": {
          "base_uri": "https://localhost:8080/"
        }
      },
      "id": "FOk6XVepb-kG",
      "execution_count": 3,
      "outputs": [
        {
          "output_type": "stream",
          "name": "stdout",
          "text": [
            "Looking in indexes: https://pypi.org/simple, https://us-python.pkg.dev/colab-wheels/public/simple/\n",
            "Requirement already satisfied: yfinance in /usr/local/lib/python3.7/dist-packages (0.1.72)\n",
            "Requirement already satisfied: multitasking>=0.0.7 in /usr/local/lib/python3.7/dist-packages (from yfinance) (0.0.10)\n",
            "Requirement already satisfied: pandas>=0.24.0 in /usr/local/lib/python3.7/dist-packages (from yfinance) (1.3.5)\n",
            "Requirement already satisfied: numpy>=1.15 in /usr/local/lib/python3.7/dist-packages (from yfinance) (1.21.6)\n",
            "Requirement already satisfied: lxml>=4.5.1 in /usr/local/lib/python3.7/dist-packages (from yfinance) (4.9.0)\n",
            "Requirement already satisfied: requests>=2.26 in /usr/local/lib/python3.7/dist-packages (from yfinance) (2.28.0)\n",
            "Requirement already satisfied: pytz>=2017.3 in /usr/local/lib/python3.7/dist-packages (from pandas>=0.24.0->yfinance) (2022.1)\n",
            "Requirement already satisfied: python-dateutil>=2.7.3 in /usr/local/lib/python3.7/dist-packages (from pandas>=0.24.0->yfinance) (2.8.2)\n",
            "Requirement already satisfied: six>=1.5 in /usr/local/lib/python3.7/dist-packages (from python-dateutil>=2.7.3->pandas>=0.24.0->yfinance) (1.15.0)\n",
            "Requirement already satisfied: certifi>=2017.4.17 in /usr/local/lib/python3.7/dist-packages (from requests>=2.26->yfinance) (2022.6.15)\n",
            "Requirement already satisfied: charset-normalizer~=2.0.0 in /usr/local/lib/python3.7/dist-packages (from requests>=2.26->yfinance) (2.0.12)\n",
            "Requirement already satisfied: urllib3<1.27,>=1.21.1 in /usr/local/lib/python3.7/dist-packages (from requests>=2.26->yfinance) (1.24.3)\n",
            "Requirement already satisfied: idna<4,>=2.5 in /usr/local/lib/python3.7/dist-packages (from requests>=2.26->yfinance) (2.10)\n"
          ]
        }
      ]
    },
    {
      "cell_type": "code",
      "source": [
        "import talib as ta                # importamos la librería con el alias ta\n",
        "import numpy as np\n",
        "import matplotlib.pyplot as plt   # importamos pyplot de la librería matplotlib con el alias plt\n",
        "import yfinance as yf             # importamos la librería de Yahoo finance con el alias yf\n",
        "\n",
        "telef = yf.Ticker(\"TEF\")\n",
        "\n",
        "# Obtener información de mercado de un ticker concreto\n",
        "telef.info         # información sobre Microsoft Corporation"
      ],
      "metadata": {
        "id": "CRPwiYOSen_g",
        "outputId": "8aaffc8a-d3b3-40f9-b4ed-3d3eee1d1d07",
        "colab": {
          "base_uri": "https://localhost:8080/"
        }
      },
      "id": "CRPwiYOSen_g",
      "execution_count": 5,
      "outputs": [
        {
          "output_type": "execute_result",
          "data": {
            "text/plain": [
              "{'52WeekChange': 0.07494652,\n",
              " 'SandP52WeekChange': -0.091264725,\n",
              " 'address1': 'Distrito Telefónica',\n",
              " 'address2': 'Ronda de la Comunicación, s/n',\n",
              " 'algorithm': None,\n",
              " 'annualHoldingsTurnover': None,\n",
              " 'annualReportExpenseRatio': None,\n",
              " 'ask': 5.1,\n",
              " 'askSize': 21500,\n",
              " 'averageDailyVolume10Day': 1726670,\n",
              " 'averageVolume': 1826124,\n",
              " 'averageVolume10days': 1726670,\n",
              " 'beta': 0.763429,\n",
              " 'beta3Year': None,\n",
              " 'bid': 5.12,\n",
              " 'bidSize': 3200,\n",
              " 'bookValue': 4.381,\n",
              " 'category': None,\n",
              " 'circulatingSupply': None,\n",
              " 'city': 'Madrid',\n",
              " 'companyOfficers': [],\n",
              " 'country': 'Spain',\n",
              " 'currency': 'USD',\n",
              " 'currentPrice': 5.02,\n",
              " 'currentRatio': 0.891,\n",
              " 'dateShortInterest': 1655251200,\n",
              " 'dayHigh': 5.065,\n",
              " 'dayLow': 5.01,\n",
              " 'debtToEquity': 154.439,\n",
              " 'dividendRate': 0.4,\n",
              " 'dividendYield': 0.0802,\n",
              " 'earningsGrowth': -0.176,\n",
              " 'earningsQuarterlyGrowth': -0.203,\n",
              " 'ebitda': 7573799936,\n",
              " 'ebitdaMargins': 0.19204001,\n",
              " 'enterpriseToEbitda': 10.098,\n",
              " 'enterpriseToRevenue': 1.939,\n",
              " 'enterpriseValue': 76477677568,\n",
              " 'exDividendDate': 1638316800,\n",
              " 'exchange': 'NYQ',\n",
              " 'exchangeTimezoneName': 'America/New_York',\n",
              " 'exchangeTimezoneShortName': 'EDT',\n",
              " 'expireDate': None,\n",
              " 'fiftyDayAverage': 4.9868,\n",
              " 'fiftyTwoWeekHigh': 5.39,\n",
              " 'fiftyTwoWeekLow': 4.1,\n",
              " 'financialCurrency': 'EUR',\n",
              " 'fiveYearAverageReturn': None,\n",
              " 'fiveYearAvgDividendYield': 7.57,\n",
              " 'floatShares': 5617210680,\n",
              " 'forwardEps': 0.36,\n",
              " 'forwardPE': 13.944444,\n",
              " 'freeCashflow': 13387625472,\n",
              " 'fromCurrency': None,\n",
              " 'fullTimeEmployees': 104150,\n",
              " 'fundFamily': None,\n",
              " 'fundInceptionDate': None,\n",
              " 'gmtOffSetMilliseconds': '-14400000',\n",
              " 'grossMargins': 0.52869,\n",
              " 'grossProfits': 21098000000,\n",
              " 'heldPercentInsiders': 0,\n",
              " 'heldPercentInstitutions': 0.01175,\n",
              " 'impliedSharesOutstanding': 0,\n",
              " 'industry': 'Telecom Services',\n",
              " 'isEsgPopulated': False,\n",
              " 'lastCapGain': None,\n",
              " 'lastDividendDate': 1654041600,\n",
              " 'lastDividendValue': 0.158,\n",
              " 'lastFiscalYearEnd': 1640908800,\n",
              " 'lastMarket': None,\n",
              " 'lastSplitDate': 1295568000,\n",
              " 'lastSplitFactor': '3:1',\n",
              " 'legalType': None,\n",
              " 'logo_url': 'https://logo.clearbit.com/telefonica.com',\n",
              " 'longBusinessSummary': \"Telefónica, S.A., together with its subsidiaries, provides telecommunications services in Europe and Latin America. The company's mobile and related services and products comprise mobile voice, value added, mobile data and Internet, wholesale, corporate, roaming, fixed wireless, and trunking and paging services. Its fixed telecommunication services include PSTN lines; ISDN accesses; public telephone services; local, domestic, and international long-distance and fixed-to-mobile communications; corporate communications; supplementary value-added services; video telephony; intelligent network; and telephony information services, as well as leases and sells handset equipment. The company also provides Internet and broadband multimedia services comprising Internet service provider, portal and network, retail and wholesale broadband access, narrowband switched access, high-speed Internet through fibre to the home, and voice over Internet protocol services. In addition, it offers leased line, virtual private network, fibre optics, web hosting and application, outsourcing and consultancy, desktop, and system integration and professional services. Further, the company offers wholesale services for telecommunication operators, including domestic interconnection and international wholesale services; leased lines for other operators; and local loop leasing services, as well as bit stream services, wholesale line rental accesses, and leased ducts for other operators' fiber deployment. Additionally, it provides video/TV services; smart connectivity and services, and consumer IoT products; financial and other payment, security, cloud computing, advertising, big data, and digital telco experience services; virtual assistants; digital home platforms; and Movistar Home devices. It also offers online telemedicine, home insurance, music streaming, and consumer loan services. The company was incorporated in 1924 and is headquartered in Madrid, Spain.\",\n",
              " 'longName': 'Telefónica, S.A.',\n",
              " 'market': 'us_market',\n",
              " 'marketCap': 28991705088,\n",
              " 'maxAge': 1,\n",
              " 'maxSupply': None,\n",
              " 'messageBoardId': 'finmb_357076',\n",
              " 'morningStarOverallRating': None,\n",
              " 'morningStarRiskRating': None,\n",
              " 'mostRecentQuarter': 1648684800,\n",
              " 'navPrice': None,\n",
              " 'netIncomeToCommon': 7726000128,\n",
              " 'nextFiscalYearEnd': 1703980800,\n",
              " 'numberOfAnalystOpinions': 1,\n",
              " 'open': 5.03,\n",
              " 'openInterest': None,\n",
              " 'operatingCashflow': 9715000320,\n",
              " 'operatingMargins': 0.049840003,\n",
              " 'payoutRatio': 0.2527,\n",
              " 'pegRatio': 0.2,\n",
              " 'phone': '34 900 11 10 04',\n",
              " 'preMarketPrice': 5.13,\n",
              " 'previousClose': 5.03,\n",
              " 'priceHint': 2,\n",
              " 'priceToBook': 1.1458571,\n",
              " 'priceToSalesTrailing12Months': 0.73510617,\n",
              " 'profitMargins': 0.20175,\n",
              " 'quickRatio': 0.74,\n",
              " 'quoteType': 'EQUITY',\n",
              " 'recommendationKey': 'strong_buy',\n",
              " 'recommendationMean': 1.5,\n",
              " 'regularMarketDayHigh': 5.065,\n",
              " 'regularMarketDayLow': 5.01,\n",
              " 'regularMarketOpen': 5.03,\n",
              " 'regularMarketPreviousClose': 5.03,\n",
              " 'regularMarketPrice': 5.02,\n",
              " 'regularMarketVolume': 1381101,\n",
              " 'returnOnAssets': 0.011469999,\n",
              " 'returnOnEquity': 0.41382998,\n",
              " 'revenueGrowth': -0.057,\n",
              " 'revenuePerShare': 6.926,\n",
              " 'revenueQuarterlyGrowth': None,\n",
              " 'sector': 'Communication Services',\n",
              " 'sharesOutstanding': 5775240192,\n",
              " 'sharesPercentSharesOut': 0.0005,\n",
              " 'sharesShort': 2963651,\n",
              " 'sharesShortPreviousMonthDate': 1652400000,\n",
              " 'sharesShortPriorMonth': 4724718,\n",
              " 'shortName': 'Telefonica SA',\n",
              " 'shortPercentOfFloat': None,\n",
              " 'shortRatio': 1.4,\n",
              " 'startDate': None,\n",
              " 'strikePrice': None,\n",
              " 'symbol': 'TEF',\n",
              " 'targetHighPrice': 6.46,\n",
              " 'targetLowPrice': 6.46,\n",
              " 'targetMeanPrice': 6.46,\n",
              " 'targetMedianPrice': 6.46,\n",
              " 'threeYearAverageReturn': None,\n",
              " 'toCurrency': None,\n",
              " 'totalAssets': None,\n",
              " 'totalCash': 8112000000,\n",
              " 'totalCashPerShare': 1.44,\n",
              " 'totalDebt': 49158000640,\n",
              " 'totalRevenue': 39438798848,\n",
              " 'tradeable': False,\n",
              " 'trailingAnnualDividendRate': 0.298,\n",
              " 'trailingAnnualDividendYield': 0.059244532,\n",
              " 'trailingEps': 1.43,\n",
              " 'trailingPE': 3.5104897,\n",
              " 'twoHundredDayAverage': 4.6719,\n",
              " 'volume': 1381101,\n",
              " 'volume24Hr': None,\n",
              " 'volumeAllCurrencies': None,\n",
              " 'website': 'https://www.telefonica.com',\n",
              " 'yield': None,\n",
              " 'ytdReturn': None,\n",
              " 'zip': '28050'}"
            ]
          },
          "metadata": {},
          "execution_count": 5
        }
      ]
    },
    {
      "cell_type": "code",
      "source": [
        "# get historical market data\n",
        "hist = msft.history(period=\"max\")\n",
        "print(hist)"
      ],
      "metadata": {
        "id": "zzCeC1VMf5n4",
        "outputId": "e68a7cba-15ef-4cb4-befc-7a86715b6919",
        "colab": {
          "base_uri": "https://localhost:8080/"
        }
      },
      "id": "zzCeC1VMf5n4",
      "execution_count": 12,
      "outputs": [
        {
          "output_type": "stream",
          "name": "stdout",
          "text": [
            "                Open      High       Low     Close    Volume  Dividends  \\\n",
            "Date                                                                      \n",
            "1987-06-12  0.450141  0.468045  0.439911  0.460372  50527023        0.0   \n",
            "1987-06-15  0.473160  0.475717  0.460372  0.462929  17437104        0.0   \n",
            "1987-06-16  0.462930  0.462930  0.442469  0.445026  14805088        0.0   \n",
            "1987-06-17  0.450141  0.450141  0.442469  0.447584   4271542        0.0   \n",
            "1987-06-18  0.447584  0.468045  0.447584  0.468045   8514571        0.0   \n",
            "...              ...       ...       ...       ...       ...        ...   \n",
            "2022-06-22  4.870000  4.950000  4.870000  4.910000   1122100        0.0   \n",
            "2022-06-23  5.000000  5.040000  4.960000  5.010000   1604700        0.0   \n",
            "2022-06-24  5.000000  5.040000  5.000000  5.030000    999000        0.0   \n",
            "2022-06-27  5.030000  5.070000  5.010000  5.020000   1381700        0.0   \n",
            "2022-06-28  5.030000  5.140000  5.125000  5.129200     85072        0.0   \n",
            "\n",
            "            Stock Splits  \n",
            "Date                      \n",
            "1987-06-12           0.0  \n",
            "1987-06-15           0.0  \n",
            "1987-06-16           0.0  \n",
            "1987-06-17           0.0  \n",
            "1987-06-18           0.0  \n",
            "...                  ...  \n",
            "2022-06-22           0.0  \n",
            "2022-06-23           0.0  \n",
            "2022-06-24           0.0  \n",
            "2022-06-27           0.0  \n",
            "2022-06-28           0.0  \n",
            "\n",
            "[8832 rows x 7 columns]\n"
          ]
        }
      ]
    },
    {
      "cell_type": "code",
      "source": [
        "# mostrar los resultados\n",
        "msft.earnings\n"
      ],
      "metadata": {
        "id": "YZLmRcIKf-D1",
        "outputId": "a878a076-b2b6-4d86-e339-06515577d722",
        "colab": {
          "base_uri": "https://localhost:8080/",
          "height": 206
        }
      },
      "id": "YZLmRcIKf-D1",
      "execution_count": 14,
      "outputs": [
        {
          "output_type": "execute_result",
          "data": {
            "text/plain": [
              "          Revenue    Earnings\n",
              "Year                         \n",
              "2018  49508000000  3331000000\n",
              "2019  49312000000  1142000000\n",
              "2020  43949000000  1582000000\n",
              "2021  40048000000  8137000000"
            ],
            "text/html": [
              "\n",
              "  <div id=\"df-253265a9-e0ff-42c9-a66a-a80b8f7a714d\">\n",
              "    <div class=\"colab-df-container\">\n",
              "      <div>\n",
              "<style scoped>\n",
              "    .dataframe tbody tr th:only-of-type {\n",
              "        vertical-align: middle;\n",
              "    }\n",
              "\n",
              "    .dataframe tbody tr th {\n",
              "        vertical-align: top;\n",
              "    }\n",
              "\n",
              "    .dataframe thead th {\n",
              "        text-align: right;\n",
              "    }\n",
              "</style>\n",
              "<table border=\"1\" class=\"dataframe\">\n",
              "  <thead>\n",
              "    <tr style=\"text-align: right;\">\n",
              "      <th></th>\n",
              "      <th>Revenue</th>\n",
              "      <th>Earnings</th>\n",
              "    </tr>\n",
              "    <tr>\n",
              "      <th>Year</th>\n",
              "      <th></th>\n",
              "      <th></th>\n",
              "    </tr>\n",
              "  </thead>\n",
              "  <tbody>\n",
              "    <tr>\n",
              "      <th>2018</th>\n",
              "      <td>49508000000</td>\n",
              "      <td>3331000000</td>\n",
              "    </tr>\n",
              "    <tr>\n",
              "      <th>2019</th>\n",
              "      <td>49312000000</td>\n",
              "      <td>1142000000</td>\n",
              "    </tr>\n",
              "    <tr>\n",
              "      <th>2020</th>\n",
              "      <td>43949000000</td>\n",
              "      <td>1582000000</td>\n",
              "    </tr>\n",
              "    <tr>\n",
              "      <th>2021</th>\n",
              "      <td>40048000000</td>\n",
              "      <td>8137000000</td>\n",
              "    </tr>\n",
              "  </tbody>\n",
              "</table>\n",
              "</div>\n",
              "      <button class=\"colab-df-convert\" onclick=\"convertToInteractive('df-253265a9-e0ff-42c9-a66a-a80b8f7a714d')\"\n",
              "              title=\"Convert this dataframe to an interactive table.\"\n",
              "              style=\"display:none;\">\n",
              "        \n",
              "  <svg xmlns=\"http://www.w3.org/2000/svg\" height=\"24px\"viewBox=\"0 0 24 24\"\n",
              "       width=\"24px\">\n",
              "    <path d=\"M0 0h24v24H0V0z\" fill=\"none\"/>\n",
              "    <path d=\"M18.56 5.44l.94 2.06.94-2.06 2.06-.94-2.06-.94-.94-2.06-.94 2.06-2.06.94zm-11 1L8.5 8.5l.94-2.06 2.06-.94-2.06-.94L8.5 2.5l-.94 2.06-2.06.94zm10 10l.94 2.06.94-2.06 2.06-.94-2.06-.94-.94-2.06-.94 2.06-2.06.94z\"/><path d=\"M17.41 7.96l-1.37-1.37c-.4-.4-.92-.59-1.43-.59-.52 0-1.04.2-1.43.59L10.3 9.45l-7.72 7.72c-.78.78-.78 2.05 0 2.83L4 21.41c.39.39.9.59 1.41.59.51 0 1.02-.2 1.41-.59l7.78-7.78 2.81-2.81c.8-.78.8-2.07 0-2.86zM5.41 20L4 18.59l7.72-7.72 1.47 1.35L5.41 20z\"/>\n",
              "  </svg>\n",
              "      </button>\n",
              "      \n",
              "  <style>\n",
              "    .colab-df-container {\n",
              "      display:flex;\n",
              "      flex-wrap:wrap;\n",
              "      gap: 12px;\n",
              "    }\n",
              "\n",
              "    .colab-df-convert {\n",
              "      background-color: #E8F0FE;\n",
              "      border: none;\n",
              "      border-radius: 50%;\n",
              "      cursor: pointer;\n",
              "      display: none;\n",
              "      fill: #1967D2;\n",
              "      height: 32px;\n",
              "      padding: 0 0 0 0;\n",
              "      width: 32px;\n",
              "    }\n",
              "\n",
              "    .colab-df-convert:hover {\n",
              "      background-color: #E2EBFA;\n",
              "      box-shadow: 0px 1px 2px rgba(60, 64, 67, 0.3), 0px 1px 3px 1px rgba(60, 64, 67, 0.15);\n",
              "      fill: #174EA6;\n",
              "    }\n",
              "\n",
              "    [theme=dark] .colab-df-convert {\n",
              "      background-color: #3B4455;\n",
              "      fill: #D2E3FC;\n",
              "    }\n",
              "\n",
              "    [theme=dark] .colab-df-convert:hover {\n",
              "      background-color: #434B5C;\n",
              "      box-shadow: 0px 1px 3px 1px rgba(0, 0, 0, 0.15);\n",
              "      filter: drop-shadow(0px 1px 2px rgba(0, 0, 0, 0.3));\n",
              "      fill: #FFFFFF;\n",
              "    }\n",
              "  </style>\n",
              "\n",
              "      <script>\n",
              "        const buttonEl =\n",
              "          document.querySelector('#df-253265a9-e0ff-42c9-a66a-a80b8f7a714d button.colab-df-convert');\n",
              "        buttonEl.style.display =\n",
              "          google.colab.kernel.accessAllowed ? 'block' : 'none';\n",
              "\n",
              "        async function convertToInteractive(key) {\n",
              "          const element = document.querySelector('#df-253265a9-e0ff-42c9-a66a-a80b8f7a714d');\n",
              "          const dataTable =\n",
              "            await google.colab.kernel.invokeFunction('convertToInteractive',\n",
              "                                                     [key], {});\n",
              "          if (!dataTable) return;\n",
              "\n",
              "          const docLinkHtml = 'Like what you see? Visit the ' +\n",
              "            '<a target=\"_blank\" href=https://colab.research.google.com/notebooks/data_table.ipynb>data table notebook</a>'\n",
              "            + ' to learn more about interactive tables.';\n",
              "          element.innerHTML = '';\n",
              "          dataTable['output_type'] = 'display_data';\n",
              "          await google.colab.output.renderOutput(dataTable, element);\n",
              "          const docLink = document.createElement('div');\n",
              "          docLink.innerHTML = docLinkHtml;\n",
              "          element.appendChild(docLink);\n",
              "        }\n",
              "      </script>\n",
              "    </div>\n",
              "  </div>\n",
              "  "
            ]
          },
          "metadata": {},
          "execution_count": 14
        }
      ]
    },
    {
      "cell_type": "code",
      "source": [
        "msft.quarterly_earnings"
      ],
      "metadata": {
        "id": "qL3vwVrNjcXh",
        "outputId": "61a272ac-bfb2-421f-d308-32a1053b1d93",
        "colab": {
          "base_uri": "https://localhost:8080/",
          "height": 206
        }
      },
      "id": "qL3vwVrNjcXh",
      "execution_count": 15,
      "outputs": [
        {
          "output_type": "execute_result",
          "data": {
            "text/plain": [
              "             Revenue    Earnings\n",
              "Quarter                         \n",
              "2Q2021    9574000000  7743000000\n",
              "3Q2021    9689000000   706000000\n",
              "4Q2021   10445000000 -1198000000\n",
              "1Q2022   10046800000   706000000"
            ],
            "text/html": [
              "\n",
              "  <div id=\"df-31d56340-b6c8-4a34-af3e-890ca408ffcd\">\n",
              "    <div class=\"colab-df-container\">\n",
              "      <div>\n",
              "<style scoped>\n",
              "    .dataframe tbody tr th:only-of-type {\n",
              "        vertical-align: middle;\n",
              "    }\n",
              "\n",
              "    .dataframe tbody tr th {\n",
              "        vertical-align: top;\n",
              "    }\n",
              "\n",
              "    .dataframe thead th {\n",
              "        text-align: right;\n",
              "    }\n",
              "</style>\n",
              "<table border=\"1\" class=\"dataframe\">\n",
              "  <thead>\n",
              "    <tr style=\"text-align: right;\">\n",
              "      <th></th>\n",
              "      <th>Revenue</th>\n",
              "      <th>Earnings</th>\n",
              "    </tr>\n",
              "    <tr>\n",
              "      <th>Quarter</th>\n",
              "      <th></th>\n",
              "      <th></th>\n",
              "    </tr>\n",
              "  </thead>\n",
              "  <tbody>\n",
              "    <tr>\n",
              "      <th>2Q2021</th>\n",
              "      <td>9574000000</td>\n",
              "      <td>7743000000</td>\n",
              "    </tr>\n",
              "    <tr>\n",
              "      <th>3Q2021</th>\n",
              "      <td>9689000000</td>\n",
              "      <td>706000000</td>\n",
              "    </tr>\n",
              "    <tr>\n",
              "      <th>4Q2021</th>\n",
              "      <td>10445000000</td>\n",
              "      <td>-1198000000</td>\n",
              "    </tr>\n",
              "    <tr>\n",
              "      <th>1Q2022</th>\n",
              "      <td>10046800000</td>\n",
              "      <td>706000000</td>\n",
              "    </tr>\n",
              "  </tbody>\n",
              "</table>\n",
              "</div>\n",
              "      <button class=\"colab-df-convert\" onclick=\"convertToInteractive('df-31d56340-b6c8-4a34-af3e-890ca408ffcd')\"\n",
              "              title=\"Convert this dataframe to an interactive table.\"\n",
              "              style=\"display:none;\">\n",
              "        \n",
              "  <svg xmlns=\"http://www.w3.org/2000/svg\" height=\"24px\"viewBox=\"0 0 24 24\"\n",
              "       width=\"24px\">\n",
              "    <path d=\"M0 0h24v24H0V0z\" fill=\"none\"/>\n",
              "    <path d=\"M18.56 5.44l.94 2.06.94-2.06 2.06-.94-2.06-.94-.94-2.06-.94 2.06-2.06.94zm-11 1L8.5 8.5l.94-2.06 2.06-.94-2.06-.94L8.5 2.5l-.94 2.06-2.06.94zm10 10l.94 2.06.94-2.06 2.06-.94-2.06-.94-.94-2.06-.94 2.06-2.06.94z\"/><path d=\"M17.41 7.96l-1.37-1.37c-.4-.4-.92-.59-1.43-.59-.52 0-1.04.2-1.43.59L10.3 9.45l-7.72 7.72c-.78.78-.78 2.05 0 2.83L4 21.41c.39.39.9.59 1.41.59.51 0 1.02-.2 1.41-.59l7.78-7.78 2.81-2.81c.8-.78.8-2.07 0-2.86zM5.41 20L4 18.59l7.72-7.72 1.47 1.35L5.41 20z\"/>\n",
              "  </svg>\n",
              "      </button>\n",
              "      \n",
              "  <style>\n",
              "    .colab-df-container {\n",
              "      display:flex;\n",
              "      flex-wrap:wrap;\n",
              "      gap: 12px;\n",
              "    }\n",
              "\n",
              "    .colab-df-convert {\n",
              "      background-color: #E8F0FE;\n",
              "      border: none;\n",
              "      border-radius: 50%;\n",
              "      cursor: pointer;\n",
              "      display: none;\n",
              "      fill: #1967D2;\n",
              "      height: 32px;\n",
              "      padding: 0 0 0 0;\n",
              "      width: 32px;\n",
              "    }\n",
              "\n",
              "    .colab-df-convert:hover {\n",
              "      background-color: #E2EBFA;\n",
              "      box-shadow: 0px 1px 2px rgba(60, 64, 67, 0.3), 0px 1px 3px 1px rgba(60, 64, 67, 0.15);\n",
              "      fill: #174EA6;\n",
              "    }\n",
              "\n",
              "    [theme=dark] .colab-df-convert {\n",
              "      background-color: #3B4455;\n",
              "      fill: #D2E3FC;\n",
              "    }\n",
              "\n",
              "    [theme=dark] .colab-df-convert:hover {\n",
              "      background-color: #434B5C;\n",
              "      box-shadow: 0px 1px 3px 1px rgba(0, 0, 0, 0.15);\n",
              "      filter: drop-shadow(0px 1px 2px rgba(0, 0, 0, 0.3));\n",
              "      fill: #FFFFFF;\n",
              "    }\n",
              "  </style>\n",
              "\n",
              "      <script>\n",
              "        const buttonEl =\n",
              "          document.querySelector('#df-31d56340-b6c8-4a34-af3e-890ca408ffcd button.colab-df-convert');\n",
              "        buttonEl.style.display =\n",
              "          google.colab.kernel.accessAllowed ? 'block' : 'none';\n",
              "\n",
              "        async function convertToInteractive(key) {\n",
              "          const element = document.querySelector('#df-31d56340-b6c8-4a34-af3e-890ca408ffcd');\n",
              "          const dataTable =\n",
              "            await google.colab.kernel.invokeFunction('convertToInteractive',\n",
              "                                                     [key], {});\n",
              "          if (!dataTable) return;\n",
              "\n",
              "          const docLinkHtml = 'Like what you see? Visit the ' +\n",
              "            '<a target=\"_blank\" href=https://colab.research.google.com/notebooks/data_table.ipynb>data table notebook</a>'\n",
              "            + ' to learn more about interactive tables.';\n",
              "          element.innerHTML = '';\n",
              "          dataTable['output_type'] = 'display_data';\n",
              "          await google.colab.output.renderOutput(dataTable, element);\n",
              "          const docLink = document.createElement('div');\n",
              "          docLink.innerHTML = docLinkHtml;\n",
              "          element.appendChild(docLink);\n",
              "        }\n",
              "      </script>\n",
              "    </div>\n",
              "  </div>\n",
              "  "
            ]
          },
          "metadata": {},
          "execution_count": 15
        }
      ]
    },
    {
      "cell_type": "code",
      "source": [
        "np.random.seed()      # barajamos la serie de aleatorios\n",
        "\n",
        "plt.style.use('bmh')  # establecemos este estilo de gráficos\n",
        "\n",
        "def plot_beta_hist(ax, a, b):\n",
        "    ax.hist(np.random.beta(a, b, size=10000),\n",
        "            histtype=\"stepfilled\", bins=25, alpha=0.8, density=True)\n",
        "\n",
        "\n",
        "fig, ax = plt.subplots()\n",
        "plot_beta_hist(ax, 10, 10)\n",
        "plot_beta_hist(ax, 4, 12)\n",
        "plot_beta_hist(ax, 50, 12)\n",
        "plot_beta_hist(ax, 6, 55)\n",
        "ax.set_title(\"'bmh' style sheet\")\n",
        "\n",
        "plt.show()"
      ],
      "metadata": {
        "id": "Zy87HwwDgUfj",
        "outputId": "3678e364-9cca-4e6f-b5f0-670ed1dec72c",
        "colab": {
          "base_uri": "https://localhost:8080/",
          "height": 279
        }
      },
      "id": "Zy87HwwDgUfj",
      "execution_count": 16,
      "outputs": [
        {
          "output_type": "display_data",
          "data": {
            "text/plain": [
              "<Figure size 432x288 with 1 Axes>"
            ],
            "image/png": "[encoded data removed]"
          },
          "metadata": {
            "needs_background": "light"
          }
        }
      ]
    },
    {
      "cell_type": "code",
      "source": [
        "# Ticker de Apple AAPL\n",
        "\n",
        "aapl = yf.download('AAPL', start='2019-1-1', end='2022-6-30' )\n",
        "print(aapl)"
      ],
      "metadata": {
        "id": "UVmlSQOqgVIn"
      },
      "id": "UVmlSQOqgVIn",
      "execution_count": null,
      "outputs": []
    },
    {
      "cell_type": "code",
      "source": [
        "# la media movil estandar es SMA, a usaremos de 21 periodos\n",
        "aapl['SMA'] = ta.SMA(aapl.Close.values, 21)  # también se puede poner ta.SMA(aapl['Close'])\n",
        "\n",
        "# la media movil exponencial se llama EMA, la pondremos de 55 periodos\n",
        "aapl['EMA'] = ta.EMA(aapl.Close.values, 55)\n",
        "\n",
        "# plot\n",
        "aapl[['Close', 'SMA', 'EMA']].plot(figsize=(15, 15))\n",
        "plt.show()"
      ],
      "metadata": {
        "id": "Mut2spoYgXSr"
      },
      "id": "Mut2spoYgXSr",
      "execution_count": null,
      "outputs": []
    },
    {
      "cell_type": "code",
      "source": [
        "# bandas BOLLINGER\n",
        "aapl['upper_band'], aapl['middle_band'], aapl['lower_band'] =  ta.BBANDS(aapl['Close'], timeperiod=20)\n",
        "aapl[['Close', 'upper_band', 'middle_band', 'lower_band']].plot(figsize=(15, 15))\n",
        "plt.show()"
      ],
      "metadata": {
        "id": "vbJoi7qpgZOQ"
      },
      "id": "vbJoi7qpgZOQ",
      "execution_count": null,
      "outputs": []
    },
    {
      "cell_type": "code",
      "source": [
        "# RSI Indice Fuerza Relativa\n",
        "aapl['RSI'] = ta.RSI(aapl.Close, 14)\n",
        "aapl['RSI'].plot(figsize=(15, 15))\n",
        "plt.show()"
      ],
      "metadata": {
        "id": "xmpY-fPCggFf"
      },
      "id": "xmpY-fPCggFf",
      "execution_count": null,
      "outputs": []
    },
    {
      "cell_type": "markdown",
      "source": [
        "## Ejercicio 3.9. Finanzas\n",
        "Estudie casos en el campo de las finanzas:\n",
        "* VAN y TIR\n",
        "* Cuadro de amortización de préstamos\n",
        "* Operativa con activos de Renta Fija: bonos\n",
        "* *Duration*\n",
        "* Estructura Temporal de los Tipos de Interés (ETTI)\n",
        "* Forwards sobre tipos de interés\n",
        "* Arbitraje\n",
        "* Random Walk en una y dos dimensiones\n",
        "* ... / ...\n"
      ],
      "metadata": {
        "id": "wpAipLNAtJvT"
      },
      "id": "wpAipLNAtJvT"
    },
    {
      "cell_type": "markdown",
      "source": [
        "## Ejercicio 3.10. Valoración de opciones financieras\n",
        "* Método de valoración de opciones europeas mediante arbol binomial\n",
        "* Método de Black-Scholes\n",
        "* Convergencia de ambos métodos\n",
        "* Gráfico de convergencia\n",
        "* Arbitraje en caso de no cumplirse la paridad Put-Call"
      ],
      "metadata": {
        "id": "aGpxuM7_unko"
      },
      "id": "aGpxuM7_unko"
    }
  ],
  "metadata": {
    "kernelspec": {
      "display_name": "Python 3 (ipykernel)",
      "language": "python",
      "name": "python3"
    },
    "language_info": {
      "codemirror_mode": {
        "name": "ipython",
        "version": 3
      },
      "file_extension": ".py",
      "mimetype": "text/x-python",
      "name": "python",
      "nbconvert_exporter": "python",
      "pygments_lexer": "ipython3",
      "version": "3.8.11"
    },
    "colab": {
      "name": "practica3.ipynb",
      "provenance": [],
      "include_colab_link": true
    }
  },
  "nbformat": 4,
  "nbformat_minor": 5
}