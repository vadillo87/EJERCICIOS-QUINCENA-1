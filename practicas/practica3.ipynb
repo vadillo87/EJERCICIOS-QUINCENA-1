{
  "cells": [
    {
      "cell_type": "markdown",
      "metadata": {
        "id": "view-in-github",
        "colab_type": "text"
      },
      "source": [
        "<a href=\"https://colab.research.google.com/github/vadillo87/EJERCICIOS-QUINCENA-1/blob/main/practicas/practica3.ipynb\" target=\"_parent\"><img src=\"https://colab.research.google.com/assets/colab-badge.svg\" alt=\"Open In Colab\"/></a>"
      ]
    },
    {
      "cell_type": "markdown",
      "id": "8b40af46",
      "metadata": {
        "id": "8b40af46"
      },
      "source": [
        "# Práctica 3\n",
        "* Puede resolver aquí los ejercicios abriendo una celda después de cada uno de los enunciados.  \n",
        "* Por favor, documente la solución de los ejercicios añadiendo suficientes **comentarios** del programador que expliquen el código."
      ]
    },
    {
      "cell_type": "markdown",
      "id": "90a31d0f",
      "metadata": {
        "id": "90a31d0f"
      },
      "source": [
        "## Ejercicio 3.1. Trabajar con un DataSet\n",
        "* Obtener un dataset, preferiblemente con datos financieros, actuariales, económicos o estadísticos.\n",
        "* Crear un modelo de análisis de los datos, utilizando las librerías principales para el análisis de datos, por ejemplo:\n",
        "    - NumPy\n",
        "    - Pandas\n",
        "    - Matplotlib"
      ]
    },
    {
      "cell_type": "markdown",
      "id": "90020a63",
      "metadata": {
        "id": "90020a63"
      },
      "source": [
        "## Ejercicio 3.2. Gráfico histórico de un índice o valor bursátil\n",
        "* Descargar un archivo con formato ***csv*** de la página de Yahoo Finanzas con la cotización de:\n",
        " - un índice (IBEX, NASDAQ, ...) o\n",
        " - valor bursátil,\n",
        "* o bien, de otra fuente disponible.\n",
        "* Crear un procedimiento que lea el fichero y finalmente obtenga un gráfico del histórico del índice o valor.\n",
        "* Tomar el periodo histórico más largo posible.\n",
        "* Alternativamente o adicionalmente, si disponemos de una API o fuente de información diferente de un *csv* descargado de forma manual, también se podría realizar de una forma más automatizada."
      ]
    },
    {
      "cell_type": "markdown",
      "id": "42322381",
      "metadata": {
        "id": "42322381"
      },
      "source": [
        "## Ejercicio 3.3. Trabajar con la Librería openpyxl\n",
        "* Crear una aplicación programada en Python que permita interactuar con la **hoja de cálculo** tanto para lectura, como para escritura.\n",
        "* Utilice la Librería openpyxl, u otra que considere adecuada para interactuar con hoja de cálculo"
      ]
    },
    {
      "cell_type": "markdown",
      "id": "9adbef23",
      "metadata": {
        "id": "9adbef23"
      },
      "source": [
        "## Ejercicio 3.4. Librería actuarial\n",
        "* Utilizando la librería actuarial **pyliferisk**, o cualquier otra que considere adecuada en este campo, cree un caso donde se muestren diferentes cálculos y procedimientos que se puedan realizar con ella.\n",
        "* Alternativamente, puede realizar su propia librería actuarial y probarla creando ejemplos prácticos. En este caso, no olvide documentar la funcionalidad de los métodos que programe, utilizando POO."
      ]
    },
    {
      "cell_type": "code",
      "source": [
        "!pip install pyliferisk"
      ],
      "metadata": {
        "id": "S8JxOu0_ArsS",
        "outputId": "5bd32f55-bcc2-45b4-88ca-b92b05c61dec",
        "colab": {
          "base_uri": "https://localhost:8080/"
        }
      },
      "id": "S8JxOu0_ArsS",
      "execution_count": 10,
      "outputs": [
        {
          "output_type": "stream",
          "name": "stdout",
          "text": [
            "Looking in indexes: https://pypi.org/simple, https://us-python.pkg.dev/colab-wheels/public/simple/\n",
            "Requirement already satisfied: pyliferisk in /usr/local/lib/python3.7/dist-packages (1.11)\n"
          ]
        }
      ]
    },
    {
      "cell_type": "code",
      "source": [
        "from pyliferisk import MortalityTable\n",
        "from pyliferisk.mortalitytables import GKM95, SPAINPERM2000\n",
        "import matplotlib.pyplot as plt\n",
        "from pyliferisk import *\n",
        "\n",
        "#comparamos la tabla GKM95 con la nueva tabla introducida por la DGS mas actualizada\n",
        "tabGK = MortalityTable(nt=GKM95)\n",
        "tabPERM = MortalityTable(nt=SPAINPERM2000)\n",
        "\n",
        "#vamos a ver hasta que edad duran las tablas\n",
        "print(\"----------------AÑO LIMITE TABLA---------------\")\n",
        "print(tabGK.w)\n",
        "print(tabPERM.w)\n",
        "\n",
        "#lanzamos sus lx de toda la tabla \n",
        "print(\"----------------LX AÑO A AÑO---------------\")\n",
        "print(tabGK.lx)\n",
        "print(tabPERM.lx)\n",
        "\n",
        "#comprobamos con la lx si coincide con la tasa de mortalidad\n",
        "print(\"----------------Qx CALCULADA POR LAS Lx---------------\")\n",
        "print((tabGK.lx[50]-tabGK.lx[51])/tabGK.lx[50])\n",
        "print((tabPERM.lx[50]-tabPERM.lx[51])/tabPERM.lx[50])\n",
        "\n",
        "#vemos como coincide la qx \n",
        "print(\"----------------Qx segun libreria Python---------------\")\n",
        "print(tabGK.qx[50] / 1000)\n",
        "print(tabPERM.qx[50] / 1000)\n",
        "\n",
        "#observamos como la tabla PERM azul es menos agresiva (mas barata) que la GK, esto tiene sentido porque según pasan los años la Esperanza de Vida es mayor.\n",
        "\n",
        "x = range(0, tabPERM.w)\n",
        "y = tabPERM.lx[:tabPERM.w]\n",
        "z = tabGK.lx[:tabPERM.w]\n",
        "plt.plot(x,y, color = 'blue')\n",
        "plt.plot(x,z, color = 'red')\n",
        "plt.ylabel('lx')\n",
        "plt.xlabel('años')\n",
        "\n",
        "#adicionalmente vamos a ver un producto de vida a 10 años, prima unica. \n",
        "#Este producto nos sirve para poder obtener a modo ejemplo como se puede calcular la dotación por tablas que realizan las empresas aseguradoras de vida. \n",
        "#En este caso sale menos Provisión (consideramos que la provisión matemátic es la prima)y por lo tanto no se dota insuficiencia de tablas, pero hay muchas situaciones\n",
        "#en las que si se debe dotar provision.\n",
        "\n",
        "print(\"----------------IMPACTO TABLAS---------------\")\n",
        "\n",
        "nt1 = Actuarial(nt=GKM95, i=0.06)\n",
        "x = 30\n",
        "n = 10\n",
        "C = 1000\n",
        "\n",
        "print(C * (Axn(nt1, x, n) ))\n",
        "\n",
        "nt2 = Actuarial(nt=SPAINPERM2000, i=0.06)\n",
        "x = 30\n",
        "n = 10\n",
        "C = 1000\n",
        "\n",
        "print(C * (Axn(nt2, x, n) ))\n",
        "\n",
        "\n",
        "#Por ultimo tambien vamos a comprobar aunque no es exactamente así porque las polizas y las carteras estan casadas y se hace solo con la parte de la cola no casada.\n",
        "print(\"----------------IMPACTO TIPOS---------------\")\n",
        "nt3 = Actuarial(nt=SPAINPERM2000, i=0.0054)\n",
        "x = 30\n",
        "n = 10\n",
        "C = 1000\n",
        "\n",
        "print(C * (Axn(nt3, x, n) ))\n",
        "\n",
        "nt4 = Actuarial(nt=SPAINPERM2000, i=0.0046)\n",
        "x = 30\n",
        "n = 10\n",
        "C = 1000\n",
        "\n",
        "print(C * (Axn(nt4, x, n) ))\n",
        "\n",
        "print(\"----------------Comparativa grafica entre las dos tablas AZUL(PERM) ROJA(GKM95)---------------\")"
      ],
      "metadata": {
        "id": "dj11xbZNdiJv",
        "outputId": "e7ba96e7-b6da-489f-e950-e0c2577949c8",
        "colab": {
          "base_uri": "https://localhost:8080/",
          "height": 629
        }
      },
      "id": "dj11xbZNdiJv",
      "execution_count": 43,
      "outputs": [
        {
          "output_type": "stream",
          "name": "stdout",
          "text": [
            "----------------AÑO LIMITE TABLA---------------\n",
            "120\n",
            "115\n",
            "----------------LX AÑO A AÑO---------------\n",
            "[100000.0, 100000.0, 100000.0, 100000.0, 100000.0, 100000.0, 100000.0, 100000.0, 100000.0, 100000.0, 100000.0, 100000.0, 100000.0, 100000.0, 100000.0, 100000.0, 99842.15, 99682.891786535, 99523.33934994147, 99364.59962367831, 99207.75260317232, 99053.95082431163, 98904.43879093742, 98759.61302121585, 98618.99908419624, 98482.11591346738, 98348.43628932645, 98217.38699797093, 98088.3588166717, 97960.66739116416, 97833.6319976913, 97706.49719291029, 97578.4625989887, 97448.6930015783, 97316.29920726636, 97180.34833727381, 97039.88386178711, 96893.88735651705, 96741.24072637559, 96580.73733388646, 96411.08361068575, 96230.85273098393, 96038.5546179716, 95832.59993759336, 95611.2649647775, 95372.52363616045, 95113.99733633992, 94832.9830312097, 94526.43541356132, 94191.03671542693, 93823.1547833275, 93418.89895631257, 92974.16894594114, 92484.61345935629, 91945.71486518996, 91352.90406316814, 90701.6126689402, 89987.2830482047, 89205.43753816867, 88351.70581875338, 87421.88363154624, 86411.97728964625, 85318.25225189347, 84137.30259969844, 82866.13099083141, 81502.17104794852, 80029.37791580945, 78426.2854379645, 76674.11673922368, 74757.12580733297, 72663.0516263557, 70383.50996856463, 67914.40013205941, 65256.23051089061, 62414.38692837184, 59399.285207513436, 56226.395169083335, 52916.09426670114, 49493.34370768582, 45987.21544209587, 42430.196302080636, 38857.34889340505, 35305.30537342155, 31811.16401432778, 28411.314049132485, 25140.25127550214, 22029.431779023293, 19106.247343821688, 16393.15639974954, 13907.040790736042, 11658.816060168941, 9653.31315676292, 7889.45301943999, 6360.671893762101, 5055.59177886875, 3958.8635485891705, 3052.1353385791786, 2315.0718183168206, 1726.3617878138539, 1264.6502982951506, 909.3460381989491, 641.2679162305767, 443.112474888206, 299.73993304957537, 198.2899852836094, 128.15251732496748, 80.82411387888003, 49.685460139801634, 29.733493496032125, 17.298461860047507, 9.769878914549396, 5.3483521698527365, 2.833197035486949, 1.4496981920696614, 0.715111618248518, 0.3393445621204567, 0.15454925491150537, 0.0673812496321456, 0.02804319340252882, 0.01110618144602807, 0.004170817601477671, 0.0]\n",
            "[100000.0, 97321.54, 97115.88012167199, 96969.48764397658, 96874.90360572864, 96786.87338082211, 96717.55462210678, 96656.70960849401, 96603.76106297049, 96561.10084208507, 96522.93989503228, 96483.58749243707, 96452.6355575695, 96417.65218665278, 96383.57818837003, 96349.04395230513, 96312.7589023527, 96271.96081768167, 96225.64437733228, 96176.62703408647, 96125.0859796589, 96074.94713481191, 96023.88330040975, 95976.42829728269, 95927.88341984992, 95878.55730219543, 95829.55377155828, 95777.70040001249, 95722.04397831004, 95666.01786596954, 95606.58056906941, 95548.75770914124, 95491.64821665848, 95438.62170440376, 95388.66912980367, 95335.92873464181, 95275.63829331002, 95214.57613672783, 95154.29578857566, 95092.6643511934, 95031.88112014011, 94962.08970664548, 94897.74339466025, 94824.22611285241, 94747.2383236714, 94666.4189293813, 94579.35422389195, 94492.59658226237, 94399.60641796576, 94305.3672908787, 94194.68108128938, 94070.81507566749, 93933.84796891731, 93794.2904509899, 93634.4649800614, 93469.1720590321, 93295.16984832702, 93118.77667069479, 92925.99286735345, 92719.25111842215, 92501.62049219699, 92263.69707412901, 92011.69723831044, 91739.92228817765, 91458.84951427113, 91158.59925720074, 90828.56866444997, 90472.41168100292, 90089.55957649242, 89676.94038467613, 89224.1166742037, 88735.87338535079, 88193.60846309291, 87602.5260798124, 86940.32106466989, 86206.82296391147, 85392.53055555896, 84485.18368288781, 83472.6794475586, 82356.3993053064, 81119.98268253583, 79730.55961914935, 78157.89824982951, 76426.92746150072, 74487.84638602576, 72292.82363115308, 69856.68560186576, 67208.86573348688, 64308.6822011286, 61186.19986032568, 57813.904099163876, 54185.347380359286, 50459.31906042257, 46444.6494876777, 42174.811726142485, 37656.50605644801, 32961.76024252307, 28185.129830210015, 23442.16154899912, 18864.826331212313, 14584.112377782636, 10777.898226624362, 7457.572675744648, 5002.718732633729, 3247.940096381459, 2037.04631758862, 1231.7387598099933, 716.4962778876742, 399.97974815312676, 212.39684588452522, 106.64785466815427, 50.2772114219173, 22.06450617298836, 8.920128233084867, 3.278691253480907, 1.0773254868337703, 0.0]\n",
            "----------------Qx CALCULADA POR LAS Lx---------------\n",
            "0.0043087000000000845\n",
            "0.0013149999999999852\n",
            "----------------Qx segun libreria Python---------------\n",
            "0.0043087\n",
            "0.001315\n",
            "----------------IMPACTO TABLAS---------------\n",
            "10.53758633767713\n",
            "4.395413301189762\n",
            "----------------IMPACTO TIPOS---------------\n",
            "5.8326583476053875\n",
            "5.858604121686814\n",
            "----------------Comparativa grafica entre las dos tablas AZUL(PERM) ROJA(GKM95)---------------\n"
          ]
        },
        {
          "output_type": "display_data",
          "data": {
            "text/plain": [
              "<Figure size 432x288 with 1 Axes>"
            ],
            "image/png": "[encoded data removed]"
          },
          "metadata": {
            "needs_background": "light"
          }
        }
      ]
    },
    {
      "cell_type": "markdown",
      "id": "37241230",
      "metadata": {
        "id": "37241230"
      },
      "source": [
        "## Ejercicio 3.5. Trabajar con una API\n",
        "* Localizar una API con datos que puedan resultar de interés.\n",
        "* Crear una aplicación programada en Python que utilice los datos de la API, preferiblemente con datos en tiempo real.\n",
        "* Mostrar la información que nuestra aplicación pueda procesar, según ciertos filtros, que faciliten el uso de la API."
      ]
    },
    {
      "cell_type": "markdown",
      "id": "67115e56",
      "metadata": {
        "id": "67115e56"
      },
      "source": [
        "## Ejercicio 3.6. Página web con Flask\n",
        "* Crear una aplicación de página web programada en Python con el framework Flask.\n",
        "* Puede desplegarla en alguna plataforma gratuita como, por ejemplo, [Pythonanywhere](https://www.pythonanywhere.com) o [Heroku](https://www.heroku.com)."
      ]
    },
    {
      "cell_type": "markdown",
      "id": "7e80d728",
      "metadata": {
        "id": "7e80d728"
      },
      "source": [
        "## Ejercicio 3.7. Bot de Telegram que proporciona cotizaciones en tiempo real\n",
        "Crear un Bot de Telegram programado en Python que realizando **Web Scraping** nos pueda dar precios en tiempo real de valores cotizados en bolsa, o en mercados financieros internacionales.  \n",
        "Adjuntar capturas de pantalla mostrando el funcionamiento del bot en Telegram."
      ]
    },
    {
      "cell_type": "markdown",
      "metadata": {
        "id": "ovrHbDBWZHwg"
      },
      "source": [
        "## Ejercicio 3.8. Estrategias de Trading\n",
        "* Elegir una compañía cotizada y realizar con ella diferentes estrategias de trading, con gráficos e indicadores bursátiles.\n",
        "* Puede utilizar la librería TA-Lib u otro sistema para efectuar el análisis."
      ],
      "id": "ovrHbDBWZHwg"
    },
    {
      "cell_type": "markdown",
      "source": [
        "## Ejercicio 3.9. Finanzas\n",
        "Estudie casos en el campo de las finanzas:\n",
        "* VAN y TIR\n",
        "* Cuadro de amortización de préstamos\n",
        "* Operativa con activos de Renta Fija: bonos\n",
        "* *Duration*\n",
        "* Estructura Temporal de los Tipos de Interés (ETTI)\n",
        "* Forwards sobre tipos de interés\n",
        "* Arbitraje\n",
        "* Random Walk en una y dos dimensiones\n",
        "* ... / ...\n"
      ],
      "metadata": {
        "id": "wpAipLNAtJvT"
      },
      "id": "wpAipLNAtJvT"
    },
    {
      "cell_type": "markdown",
      "source": [
        "## Ejercicio 3.10. Valoración de opciones financieras\n",
        "* Método de valoración de opciones europeas mediante arbol binomial\n",
        "* Método de Black-Scholes\n",
        "* Convergencia de ambos métodos\n",
        "* Gráfico de convergencia\n",
        "* Arbitraje en caso de no cumplirse la paridad Put-Call"
      ],
      "metadata": {
        "id": "aGpxuM7_unko"
      },
      "id": "aGpxuM7_unko"
    }
  ],
  "metadata": {
    "kernelspec": {
      "display_name": "Python 3 (ipykernel)",
      "language": "python",
      "name": "python3"
    },
    "language_info": {
      "codemirror_mode": {
        "name": "ipython",
        "version": 3
      },
      "file_extension": ".py",
      "mimetype": "text/x-python",
      "name": "python",
      "nbconvert_exporter": "python",
      "pygments_lexer": "ipython3",
      "version": "3.8.11"
    },
    "colab": {
      "name": "practica3.ipynb",
      "provenance": [],
      "include_colab_link": true
    }
  },
  "nbformat": 4,
  "nbformat_minor": 5
}